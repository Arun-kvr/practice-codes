{
 "cells": [
  {
   "cell_type": "markdown",
   "id": "e80280a7",
   "metadata": {},
   "source": [
    "### 1.Bubble sort"
   ]
  },
  {
   "cell_type": "code",
   "execution_count": 1,
   "id": "3d161741",
   "metadata": {},
   "outputs": [
    {
     "name": "stdout",
     "output_type": "stream",
     "text": [
      "Sorted array: 9,13,20,24,46,52\n",
      "Sorted array: 1,2,3,4,5\n"
     ]
    }
   ],
   "source": [
    "def bubble_sort(arr):\n",
    "    n = len(arr)\n",
    "    # Traverse through all array elements\n",
    "    for i in range(n - 1):\n",
    "        # Last i elements are already in place\n",
    "        for j in range(n - i - 1):\n",
    "            # Swap if the element found is greater than the next element\n",
    "            if arr[j] > arr[j + 1]:\n",
    "                arr[j], arr[j + 1] = arr[j + 1], arr[j]\n",
    "\n",
    "# Example 1\n",
    "arr1 = [13, 46, 24, 52, 20, 9]\n",
    "bubble_sort(arr1)\n",
    "print(\"Sorted array:\", \",\".join(map(str, arr1)))\n",
    "\n",
    "# Example 2\n",
    "arr2 = [5, 4, 3, 2, 1]\n",
    "bubble_sort(arr2)\n",
    "print(\"Sorted array:\", \",\".join(map(str, arr2)))\n"
   ]
  },
  {
   "cell_type": "markdown",
   "id": "19d2fe6e",
   "metadata": {},
   "source": [
    "### 2.Selection Sort Algorithm\n",
    "\n"
   ]
  },
  {
   "cell_type": "code",
   "execution_count": 2,
   "id": "6657bfe2",
   "metadata": {},
   "outputs": [
    {
     "name": "stdout",
     "output_type": "stream",
     "text": [
      "Sorted array: 9,13,20,24,46,52\n",
      "Sorted array: 1,2,3,4,5\n"
     ]
    }
   ],
   "source": [
    "def selection_sort(arr):\n",
    "    n = len(arr)\n",
    "    for i in range(n):\n",
    "        # Assume the current element is the minimum\n",
    "        min_idx = i\n",
    "        # Check for a smaller element in the rest of the array\n",
    "        for j in range(i + 1, n):\n",
    "            if arr[j] < arr[min_idx]:\n",
    "                min_idx = j\n",
    "        # Swap the found minimum element with the first element\n",
    "        arr[i], arr[min_idx] = arr[min_idx], arr[i]\n",
    "\n",
    "# Example 1\n",
    "arr1 = [13, 46, 24, 52, 20, 9]\n",
    "selection_sort(arr1)\n",
    "print(\"Sorted array:\", \",\".join(map(str, arr1)))\n",
    "\n",
    "# Example 2\n",
    "arr2 = [5, 4, 3, 2, 1]\n",
    "selection_sort(arr2)\n",
    "print(\"Sorted array:\", \",\".join(map(str, arr2)))\n"
   ]
  },
  {
   "cell_type": "markdown",
   "id": "fae4cda3",
   "metadata": {},
   "source": [
    "### 3.Insertion Sort Algorithm\n",
    "\n"
   ]
  },
  {
   "cell_type": "code",
   "execution_count": 5,
   "id": "65ac4377",
   "metadata": {},
   "outputs": [
    {
     "name": "stdout",
     "output_type": "stream",
     "text": [
      "Sorted array: 9,13,20,24,46,52\n",
      "Sorted array: 1,2,3,4,5\n"
     ]
    }
   ],
   "source": [
    "def insertion_sort(arr):\n",
    "    n = len(arr)\n",
    "    for i in range(1, n):\n",
    "        key = arr[i]\n",
    "        j = i - 1\n",
    "        # Move elements of arr[0...i-1], that are greater than key,\n",
    "        # to one position ahead of their current position\n",
    "        while j >= 0 and arr[j] > key:\n",
    "            arr[j + 1] = arr[j]\n",
    "            j -= 1\n",
    "        arr[j + 1] = key\n",
    "\n",
    "# Example 1\n",
    "arr1 = [13, 46, 24, 52, 20, 9]\n",
    "insertion_sort(arr1)\n",
    "print(\"Sorted array:\", \",\".join(map(str, arr1)))\n",
    "\n",
    "# Example 2\n",
    "arr2 = [5, 4, 3, 2, 1]\n",
    "insertion_sort(arr2)\n",
    "print(\"Sorted array:\", \",\".join(map(str, arr2)))\n"
   ]
  },
  {
   "cell_type": "markdown",
   "id": "7600cd8d",
   "metadata": {},
   "source": [
    "### 4.Quick Sort Algorithm\n",
    "\n",
    "\n"
   ]
  },
  {
   "cell_type": "code",
   "execution_count": 6,
   "id": "34b508cd",
   "metadata": {},
   "outputs": [
    {
     "name": "stdout",
     "output_type": "stream",
     "text": [
      "Sorted array: 1 3 4 7 9\n",
      "Sorted array: 1 2 3 4 5 6 7 9\n"
     ]
    }
   ],
   "source": [
    "def quicksort(arr, low, high):\n",
    "    if low < high:\n",
    "        # Partition the array and get the pivot index\n",
    "        pi = partition(arr, low, high)\n",
    "        # Recursively apply quicksort to the left and right subarrays\n",
    "        quicksort(arr, low, pi - 1)\n",
    "        quicksort(arr, pi + 1, high)\n",
    "\n",
    "def partition(arr, low, high):\n",
    "    pivot = arr[high]  # Choose the last element as pivot\n",
    "    i = low - 1  # Index of smaller element\n",
    "    for j in range(low, high):\n",
    "        if arr[j] < pivot:\n",
    "            i += 1\n",
    "            arr[i], arr[j] = arr[j], arr[i]  # Swap\n",
    "    arr[i + 1], arr[high] = arr[high], arr[i + 1]  # Swap pivot to correct position\n",
    "    return i + 1\n",
    "\n",
    "# Example 1\n",
    "arr1 = [4, 1, 7, 9, 3]\n",
    "quicksort(arr1, 0, len(arr1) - 1)\n",
    "print(\"Sorted array:\", \" \".join(map(str, arr1)))\n",
    "\n",
    "# Example 2\n",
    "arr2 = [4, 6, 2, 5, 7, 9, 1, 3]\n",
    "quicksort(arr2, 0, len(arr2) - 1)\n",
    "print(\"Sorted array:\", \" \".join(map(str, arr2)))\n"
   ]
  },
  {
   "cell_type": "markdown",
   "id": "6246659d",
   "metadata": {},
   "source": [
    "### 5.Merge Sort Algorithm\n",
    "\n"
   ]
  },
  {
   "cell_type": "code",
   "execution_count": 7,
   "id": "10ab57fd",
   "metadata": {},
   "outputs": [
    {
     "name": "stdout",
     "output_type": "stream",
     "text": [
      "Sorted array: 1,2,4,6,7,\n",
      "Sorted array: 1,2,3,4,5,8,23\n"
     ]
    }
   ],
   "source": [
    "def merge_sort(arr):\n",
    "    if len(arr) > 1:\n",
    "        mid = len(arr) // 2  # Finding the middle of the array\n",
    "        left_half = arr[:mid]  # Dividing the array elements into 2 halves\n",
    "        right_half = arr[mid:]\n",
    "\n",
    "        merge_sort(left_half)  # Sorting the first half\n",
    "        merge_sort(right_half)  # Sorting the second half\n",
    "\n",
    "        # Merging the sorted halves\n",
    "        i = j = k = 0\n",
    "\n",
    "        # Copy data to temporary arrays left_half[] and right_half[]\n",
    "        while i < len(left_half) and j < len(right_half):\n",
    "            if left_half[i] < right_half[j]:\n",
    "                arr[k] = left_half[i]\n",
    "                i += 1\n",
    "            else:\n",
    "                arr[k] = right_half[j]\n",
    "                j += 1\n",
    "            k += 1\n",
    "\n",
    "        # Checking if any element was left\n",
    "        while i < len(left_half):\n",
    "            arr[k] = left_half[i]\n",
    "            i += 1\n",
    "            k += 1\n",
    "\n",
    "        while j < len(right_half):\n",
    "            arr[k] = right_half[j]\n",
    "            j += 1\n",
    "            k += 1\n",
    "\n",
    "# Example 1\n",
    "arr1 = [4, 2, 1, 6, 7]\n",
    "merge_sort(arr1)\n",
    "print(\"Sorted array:\", \",\".join(map(str, arr1)) + \",\")\n",
    "\n",
    "# Example 2\n",
    "arr2 = [3, 2, 8, 5, 1, 4, 23]\n",
    "merge_sort(arr2)\n",
    "print(\"Sorted array:\", \",\".join(map(str, arr2)))"
   ]
  }
 ],
 "metadata": {
  "kernelspec": {
   "display_name": "Python 3 (ipykernel)",
   "language": "python",
   "name": "python3"
  },
  "language_info": {
   "codemirror_mode": {
    "name": "ipython",
    "version": 3
   },
   "file_extension": ".py",
   "mimetype": "text/x-python",
   "name": "python",
   "nbconvert_exporter": "python",
   "pygments_lexer": "ipython3",
   "version": "3.10.9"
  }
 },
 "nbformat": 4,
 "nbformat_minor": 5
}
