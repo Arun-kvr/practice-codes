{
 "cells": [
  {
   "cell_type": "code",
   "execution_count": 1,
   "id": "adc5528d",
   "metadata": {},
   "outputs": [
    {
     "name": "stdout",
     "output_type": "stream",
     "text": [
      "enter n :5\n",
      "A \n",
      "A A \n",
      "A A A \n",
      "A A A A \n",
      "A A A A A \n"
     ]
    }
   ],
   "source": [
    "n=int(input(\"enter n :\"))\n",
    "for i in range(n):\n",
    "    for j in range(i+1):\n",
    "        print(\"A\",end=' ')\n",
    "    print()"
   ]
  },
  {
   "cell_type": "code",
   "execution_count": 2,
   "id": "75c6c4b5",
   "metadata": {},
   "outputs": [
    {
     "name": "stdout",
     "output_type": "stream",
     "text": [
      "enter n :5\n",
      "A \n",
      "B B \n",
      "C C C \n",
      "D D D D \n",
      "E E E E E \n"
     ]
    }
   ],
   "source": [
    "n= int(input(\"enter n :\"))\n",
    "p=65\n",
    "for i in range(n):\n",
    "    for j in range(i+1):\n",
    "        print(chr(p),end=' ')\n",
    "    p+=1\n",
    "    print()"
   ]
  },
  {
   "cell_type": "code",
   "execution_count": 3,
   "id": "f9ede943",
   "metadata": {},
   "outputs": [
    {
     "name": "stdout",
     "output_type": "stream",
     "text": [
      "enter n :5\n",
      "E \n",
      "D D \n",
      "C C C \n",
      "B B B B \n",
      "A A A A A \n"
     ]
    }
   ],
   "source": [
    "n=int(input(\"enter n :\"))\n",
    "p=69\n",
    "for i in range(n):\n",
    "    for j in range(i+1):\n",
    "        print(chr(p),end=' ')\n",
    "    p-=1\n",
    "    print()"
   ]
  },
  {
   "cell_type": "code",
   "execution_count": 4,
   "id": "da60825a",
   "metadata": {},
   "outputs": [
    {
     "name": "stdout",
     "output_type": "stream",
     "text": [
      "enter n :5\n",
      "E \n",
      "D D \n",
      "C C C \n",
      "B B B B \n",
      "A A A A A \n"
     ]
    }
   ],
   "source": [
    "n= int(input(\"enter n :\"))\n",
    "p=65+n-1\n",
    "for i in range(n):\n",
    "    for j in range(i+1):\n",
    "        print(chr(p),end=' ')\n",
    "    p=p-1\n",
    "    print()"
   ]
  },
  {
   "cell_type": "code",
   "execution_count": 5,
   "id": "d8ec5ca6",
   "metadata": {},
   "outputs": [
    {
     "name": "stdout",
     "output_type": "stream",
     "text": [
      "enter n :5\n",
      "A \n",
      "C C \n",
      "E E E \n",
      "G G G G \n",
      "I I I I I \n"
     ]
    }
   ],
   "source": [
    "n=int(input(\"enter n :\"))\n",
    "p=65\n",
    "for i in range(n):\n",
    "    for j in range(i+1):\n",
    "        print(chr(p),end=' ')\n",
    "    p+=2\n",
    "    print()"
   ]
  },
  {
   "cell_type": "code",
   "execution_count": 6,
   "id": "ce3ee9dd",
   "metadata": {},
   "outputs": [
    {
     "name": "stdout",
     "output_type": "stream",
     "text": [
      "enter n :5\n",
      "A \n",
      "B B \n",
      "A A A \n",
      "B B B B \n",
      "A A A A A \n"
     ]
    }
   ],
   "source": [
    "n=int(input(\"enter n :\"))\n",
    "for i in range(n):\n",
    "    for j in range(i+1):\n",
    "        if i%2==0:\n",
    "            print(\"A\",end=' ')\n",
    "        else:\n",
    "            print(\"B\",end=' ')\n",
    "    print()"
   ]
  },
  {
   "cell_type": "code",
   "execution_count": 7,
   "id": "344a9a72",
   "metadata": {},
   "outputs": [
    {
     "name": "stdout",
     "output_type": "stream",
     "text": [
      "enter n :5\n",
      "A A A A A \n",
      "B B B B \n",
      "A A A \n",
      "B B \n",
      "A \n"
     ]
    }
   ],
   "source": [
    "n=int(input(\"enter n :\"))\n",
    "for i in range(n):\n",
    "    for j in range(i,n):\n",
    "        if i%2==0:\n",
    "            print(\"A\",end=' ')\n",
    "        else:\n",
    "            print(\"B\",end=' ')\n",
    "    print()"
   ]
  },
  {
   "cell_type": "code",
   "execution_count": 8,
   "id": "e069fee4",
   "metadata": {},
   "outputs": [
    {
     "name": "stdout",
     "output_type": "stream",
     "text": [
      "enter n :5\n",
      "          A \n",
      "        B B B \n",
      "      C C C C C \n",
      "    D D D D D D D \n",
      "  E E E E E E E E E \n",
      "    F F F F F F F \n",
      "      G G G G G \n",
      "        H H H \n",
      "          I \n",
      "            \n"
     ]
    }
   ],
   "source": [
    "n=int(input(\"enter n :\"))\n",
    "p=65\n",
    "for i in range(n):\n",
    "    for j in range(i,n):\n",
    "        print(\" \",end=' ')\n",
    "    for j in range(i):\n",
    "        print(chr(p),end=' ')\n",
    "    for j in range(i+1):\n",
    "        print(chr(p),end=' ')\n",
    "    p+=1\n",
    "    print()\n",
    "for i in range(n):\n",
    "    for j in range(i+2):\n",
    "        print(\" \",end=' ')\n",
    "    for j in range(i+1,n-1):\n",
    "        print(chr(p),end=' ')\n",
    "    for j in range(i+1,n):\n",
    "        print(chr(p),end=' ')\n",
    "    p+=1\n",
    "    print()"
   ]
  },
  {
   "cell_type": "code",
   "execution_count": 9,
   "id": "02ebe9e3",
   "metadata": {},
   "outputs": [
    {
     "name": "stdout",
     "output_type": "stream",
     "text": [
      "enter n :5\n",
      "          A \n",
      "        B B B \n",
      "      C C C C C \n",
      "    D D D D D D D \n",
      "  E E E E E E E E E \n",
      "    F F F F F F F \n",
      "      G G G G G \n",
      "        H H H \n",
      "          I \n"
     ]
    }
   ],
   "source": [
    "n=int(input(\"enter n :\"))\n",
    "p=65\n",
    "for i in range(n-1):\n",
    "    for j in range(i,n):\n",
    "        print(\" \",end=' ')\n",
    "    for j in range(i):\n",
    "        print(chr(p),end=' ')\n",
    "    for j in range(i+1):\n",
    "        print(chr(p),end=' ')\n",
    "    p+=1\n",
    "    print()\n",
    "for i in range(n):\n",
    "    for j in range(i+1):\n",
    "        print(\" \",end=' ')\n",
    "    for j in range(i+1,n):\n",
    "        print(chr(p),end=' ')\n",
    "    for j in range(i,n):\n",
    "        print(chr(p),end=' ')\n",
    "    p+=1\n",
    "    print()"
   ]
  },
  {
   "cell_type": "code",
   "execution_count": 10,
   "id": "11e2a786",
   "metadata": {},
   "outputs": [
    {
     "name": "stdout",
     "output_type": "stream",
     "text": [
      "enter n :5\n",
      "          A \n",
      "        B B B \n",
      "      C C C C C \n",
      "    D D D D D D D \n",
      "  E E E E E E E E E \n",
      "    D D D D D D D \n",
      "      C C C C C \n",
      "        B B B \n",
      "          A \n"
     ]
    }
   ],
   "source": [
    "n=int(input(\"enter n :\"))\n",
    "p=65\n",
    "for i in range(n-1):\n",
    "    for j in range(i,n):\n",
    "        print(\" \",end=' ')\n",
    "    for j in range(i):\n",
    "        print(chr(p),end=' ')\n",
    "    for j in range(i+1):\n",
    "        print(chr(p),end=' ')\n",
    "    p+=1\n",
    "    print()\n",
    "for i in range(n):\n",
    "    for j in range(i+1):\n",
    "        print(\" \",end=' ')\n",
    "    for j in range(i,n-1):\n",
    "        print(chr(p),end=' ')\n",
    "    for j in range(i,n):\n",
    "        print(chr(p),end=' ')\n",
    "    p-=1\n",
    "    print()"
   ]
  },
  {
   "cell_type": "code",
   "execution_count": 11,
   "id": "44f0e807",
   "metadata": {},
   "outputs": [
    {
     "name": "stdout",
     "output_type": "stream",
     "text": [
      "enter n :5\n",
      "A \n",
      "A B \n",
      "A B C \n",
      "A B C D \n",
      "A B C D E \n"
     ]
    }
   ],
   "source": [
    "n=int(input(\"enter n :\"))\n",
    "for i in range(n):\n",
    "    p=65\n",
    "    for j in range(i+1):\n",
    "        print(chr(p),end=' ')\n",
    "        p+=1\n",
    "    print()"
   ]
  },
  {
   "cell_type": "code",
   "execution_count": 12,
   "id": "9eb408b0",
   "metadata": {},
   "outputs": [
    {
     "name": "stdout",
     "output_type": "stream",
     "text": [
      "enter n :5\n",
      "A B C D E \n",
      "A B C D \n",
      "A B C \n",
      "A B \n",
      "A \n"
     ]
    }
   ],
   "source": [
    "n=int(input(\"enter n :\"))\n",
    "for i in range(n):\n",
    "    p=65\n",
    "    for j in range(i,n):\n",
    "        print(chr(p),end=' ')\n",
    "        p+=1\n",
    "    print()"
   ]
  },
  {
   "cell_type": "code",
   "execution_count": 13,
   "id": "aa7b650d",
   "metadata": {},
   "outputs": [
    {
     "name": "stdout",
     "output_type": "stream",
     "text": [
      "enter n :5\n",
      "  A B C D E \n",
      "    A B C D \n",
      "      A B C \n",
      "        A B \n",
      "          A \n"
     ]
    }
   ],
   "source": [
    "n=int(input(\"enter n :\"))\n",
    "for i in range(n):\n",
    "    p=65\n",
    "    for j in range(i+1):\n",
    "        print(\" \",end=' ')\n",
    "    for j in range(i,n):\n",
    "        print(chr(p),end=' ')\n",
    "        p+=1\n",
    "    print()"
   ]
  },
  {
   "cell_type": "code",
   "execution_count": 14,
   "id": "0c0bef02",
   "metadata": {},
   "outputs": [
    {
     "name": "stdout",
     "output_type": "stream",
     "text": [
      "enter n :5\n",
      "          A \n",
      "        A B C \n",
      "      A B C D E \n",
      "    A B C D E F G \n",
      "  A B C D E F G H I \n"
     ]
    }
   ],
   "source": [
    "n=int(input(\"enter n :\"))\n",
    "for i in range(n):\n",
    "    p=65\n",
    "    for j in range(i,n):\n",
    "        print(\" \",end=' ')\n",
    "    for j in range(i):\n",
    "        print(chr(p),end=' ')\n",
    "        p+=1\n",
    "    for j in range(i+1):\n",
    "        print(chr(p),end=' ')\n",
    "        p+=1\n",
    "    print()"
   ]
  },
  {
   "cell_type": "code",
   "execution_count": 15,
   "id": "0ee4965b",
   "metadata": {},
   "outputs": [
    {
     "name": "stdout",
     "output_type": "stream",
     "text": [
      "enter n :5\n",
      "E D C B A \n",
      "E D C B \n",
      "E D C \n",
      "E D \n",
      "E \n"
     ]
    }
   ],
   "source": [
    "n=int(input(\"enter n :\"))\n",
    "for i in range(n):\n",
    "    p=65+n-1\n",
    "    for j in range(i,n):\n",
    "        print(chr(p),end=' ')\n",
    "        p-=1\n",
    "    print()"
   ]
  },
  {
   "cell_type": "code",
   "execution_count": 16,
   "id": "8da20531",
   "metadata": {},
   "outputs": [
    {
     "name": "stdout",
     "output_type": "stream",
     "text": [
      "enter n :5\n",
      "          A \n",
      "        A B A \n",
      "      A B C B A \n",
      "    A B C D C B A \n",
      "  A B C D E D C B A \n"
     ]
    }
   ],
   "source": [
    "n=int(input(\"enter n :\"))\n",
    "for i in range(n):\n",
    "    p=65\n",
    "    for j in range(i,n):\n",
    "        print(\" \",end=' ')\n",
    "    for j in range(i):\n",
    "        print(chr(p),end=' ')\n",
    "        p+=1\n",
    "    for j in range(i+1):\n",
    "        print(chr(p),end=' ')\n",
    "        p-=1\n",
    "    print()"
   ]
  },
  {
   "cell_type": "code",
   "execution_count": 17,
   "id": "43870b3b",
   "metadata": {},
   "outputs": [
    {
     "name": "stdout",
     "output_type": "stream",
     "text": [
      "c \n",
      "o o \n",
      "d d d \n",
      "e e e e \n",
      "r r r r r \n"
     ]
    }
   ],
   "source": [
    "s=\"coder\"\n",
    "n=len(s)\n",
    "k=0\n",
    "for i in range(n):\n",
    "    for j in range(i+1):\n",
    "        print(s[k],end=' ')\n",
    "    k+=1\n",
    "    print()"
   ]
  },
  {
   "cell_type": "code",
   "execution_count": 18,
   "id": "4e3db443",
   "metadata": {},
   "outputs": [
    {
     "name": "stdout",
     "output_type": "stream",
     "text": [
      "r \n",
      "e e \n",
      "d d d \n",
      "o o o o \n",
      "c c c c c \n"
     ]
    }
   ],
   "source": [
    "s=\"coder\"\n",
    "n=len(s)\n",
    "p=n-1\n",
    "for i in range(n):\n",
    "    for j in range(i+1):\n",
    "        print(s[p],end=' ')\n",
    "    p-=1\n",
    "    print()"
   ]
  },
  {
   "cell_type": "code",
   "execution_count": 19,
   "id": "1dd46130",
   "metadata": {},
   "outputs": [
    {
     "name": "stdout",
     "output_type": "stream",
     "text": [
      "c \n",
      "c o \n",
      "c o d \n",
      "c o d e \n",
      "c o d e r \n"
     ]
    }
   ],
   "source": [
    "s=\"coder\"\n",
    "n=len(s)\n",
    "for i in range(n):\n",
    "    p=0\n",
    "    for j in range(i+1):\n",
    "        print(s[p],end=' ')\n",
    "        p+=1\n",
    "    print()"
   ]
  },
  {
   "cell_type": "code",
   "execution_count": 20,
   "id": "2aa09be4",
   "metadata": {},
   "outputs": [
    {
     "name": "stdout",
     "output_type": "stream",
     "text": [
      "          c \n",
      "        c o \n",
      "      c o d \n",
      "    c o d e \n",
      "  c o d e r \n"
     ]
    }
   ],
   "source": [
    "s=\"coder\"\n",
    "n=len(s)\n",
    "for i in range(n):\n",
    "    p=0\n",
    "    for j in range(i,n):\n",
    "        print(\" \",end=' ')\n",
    "    for j in range(i+1):\n",
    "        print(s[p],end=' ')\n",
    "        p+=1\n",
    "    print()"
   ]
  },
  {
   "cell_type": "code",
   "execution_count": 21,
   "id": "4cac6aee",
   "metadata": {},
   "outputs": [
    {
     "name": "stdout",
     "output_type": "stream",
     "text": [
      "r \n",
      "r e \n",
      "r e d \n",
      "r e d o \n",
      "r e d o c \n"
     ]
    }
   ],
   "source": [
    "s=\"coder\"\n",
    "n=len(s)\n",
    "for i in range(n):\n",
    "    p=n-1\n",
    "    for j in range(i+1):\n",
    "        print(s[p],end=' ')\n",
    "        p-=1\n",
    "    print()"
   ]
  },
  {
   "cell_type": "code",
   "execution_count": 22,
   "id": "2b58cd2c",
   "metadata": {},
   "outputs": [
    {
     "name": "stdout",
     "output_type": "stream",
     "text": [
      "  r e d o c \n",
      "    e d o c \n",
      "      d o c \n",
      "        o c \n",
      "          c \n"
     ]
    }
   ],
   "source": [
    "s=\"coder\"\n",
    "n=len(s)\n",
    "k=n-1\n",
    "for i in range(n):\n",
    "    p=k\n",
    "    for j in range(i+1):\n",
    "        print(\" \",end=' ')\n",
    "    for j in range(i,n):\n",
    "        print(s[p],end=' ')\n",
    "        p-=1\n",
    "    print()\n",
    "    k-=1"
   ]
  },
  {
   "cell_type": "code",
   "execution_count": null,
   "id": "b0ec2e30",
   "metadata": {},
   "outputs": [],
   "source": []
  }
 ],
 "metadata": {
  "kernelspec": {
   "display_name": "Python 3 (ipykernel)",
   "language": "python",
   "name": "python3"
  },
  "language_info": {
   "codemirror_mode": {
    "name": "ipython",
    "version": 3
   },
   "file_extension": ".py",
   "mimetype": "text/x-python",
   "name": "python",
   "nbconvert_exporter": "python",
   "pygments_lexer": "ipython3",
   "version": "3.12.3"
  }
 },
 "nbformat": 4,
 "nbformat_minor": 5
}
