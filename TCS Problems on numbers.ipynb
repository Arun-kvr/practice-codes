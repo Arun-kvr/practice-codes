{
 "cells": [
  {
   "cell_type": "markdown",
   "id": "36a0582e",
   "metadata": {},
   "source": [
    "### 1.Check if a number is Palindrome or Not\n",
    "\n"
   ]
  },
  {
   "cell_type": "code",
   "execution_count": 1,
   "id": "7403c288",
   "metadata": {},
   "outputs": [
    {
     "name": "stdout",
     "output_type": "stream",
     "text": [
      "True\n",
      "True\n",
      "False\n"
     ]
    }
   ],
   "source": [
    "def is_palindrome(N):\n",
    "    # Convert the integer to a string\n",
    "    N_str = str(N)\n",
    "    \n",
    "    # Check if the string is equal to its reverse\n",
    "    return N_str == N_str[::-1]\n",
    "\n",
    "# Example usage\n",
    "print(is_palindrome(121))  # True\n",
    "print(is_palindrome(1331)) # True\n",
    "print(is_palindrome(123))  # False\n"
   ]
  },
  {
   "cell_type": "markdown",
   "id": "e4b4fd4b",
   "metadata": {},
   "source": [
    "### 2.Find all Palindrome Numbers in a given range\n",
    "\n"
   ]
  },
  {
   "cell_type": "code",
   "execution_count": 2,
   "id": "47cc6ef8",
   "metadata": {},
   "outputs": [
    {
     "name": "stdout",
     "output_type": "stream",
     "text": [
      "[11, 22, 33, 44]\n",
      "[101, 111, 121, 131, 141]\n"
     ]
    }
   ],
   "source": [
    "def find_palindromes(min_num, max_num):\n",
    "    # List to store palindromic numbers\n",
    "    palindromes = []\n",
    "\n",
    "    # Iterate through the range and check for palindrome\n",
    "    for num in range(min_num, max_num + 1):\n",
    "        # Convert the number to a string and check if it's the same as its reverse\n",
    "        if str(num) == str(num)[::-1]:\n",
    "            palindromes.append(num)\n",
    "    \n",
    "    return palindromes\n",
    "\n",
    "# Example usage\n",
    "print(find_palindromes(10, 50))  # Output: [11, 22, 33, 44]\n",
    "print(find_palindromes(100, 150))  # Output: [101, 111, 121, 131, 141]\n",
    "\n"
   ]
  },
  {
   "cell_type": "markdown",
   "id": "85068c5e",
   "metadata": {},
   "source": [
    "### 3.Check if a number is prime or not\n",
    "\n"
   ]
  },
  {
   "cell_type": "code",
   "execution_count": 3,
   "id": "7f504af4",
   "metadata": {},
   "outputs": [
    {
     "name": "stdout",
     "output_type": "stream",
     "text": [
      "True\n",
      "True\n",
      "False\n",
      "True\n"
     ]
    }
   ],
   "source": [
    "def is_prime(N):\n",
    "    # Check if N is less than 2, because 0 and 1 are not prime\n",
    "    if N < 2:\n",
    "        return False\n",
    "\n",
    "    # Check divisibility from 2 to the square root of N\n",
    "    for i in range(2, int(N ** 0.5) + 1):\n",
    "        if N % i == 0:\n",
    "            return False  # N is divisible by i, so it's not prime\n",
    "    return True  # If no divisors were found, N is prime\n",
    "\n",
    "# Example usage\n",
    "print(is_prime(2))   # True\n",
    "print(is_prime(3))   # True\n",
    "print(is_prime(4))   # False\n",
    "print(is_prime(29))  # True\n"
   ]
  },
  {
   "cell_type": "markdown",
   "id": "619ddfba",
   "metadata": {},
   "source": [
    "### 4.Prime Numbers in a given range\n",
    "\n"
   ]
  },
  {
   "cell_type": "code",
   "execution_count": 4,
   "id": "3f7ea491",
   "metadata": {},
   "outputs": [
    {
     "name": "stdout",
     "output_type": "stream",
     "text": [
      "[2, 3, 5, 7]\n",
      "[11, 13]\n"
     ]
    }
   ],
   "source": [
    "def is_prime(N):\n",
    "    # Helper function to check if a number is prime\n",
    "    if N < 2:\n",
    "        return False\n",
    "    for i in range(2, int(N ** 0.5) + 1):\n",
    "        if N % i == 0:\n",
    "            return False\n",
    "    return True\n",
    "\n",
    "def primes_in_range(a, b):\n",
    "    # List to store prime numbers in the range\n",
    "    prime_numbers = []\n",
    "    \n",
    "    # Check each number in the range [a, b]\n",
    "    for num in range(a, b + 1):\n",
    "        if is_prime(num):\n",
    "            prime_numbers.append(num)\n",
    "    \n",
    "    return prime_numbers\n",
    "\n",
    "# Example usage\n",
    "print(primes_in_range(2, 10))  # Output: [2, 3, 5, 7]\n",
    "print(primes_in_range(10, 16)) # Output: [11, 13]\n"
   ]
  },
  {
   "cell_type": "markdown",
   "id": "dd5f96e3",
   "metadata": {},
   "source": [
    "### 5.Check if a number is Armstrong Number or not\n",
    "\n"
   ]
  },
  {
   "cell_type": "code",
   "execution_count": 5,
   "id": "919abb96",
   "metadata": {},
   "outputs": [
    {
     "name": "stdout",
     "output_type": "stream",
     "text": [
      "True\n",
      "True\n",
      "False\n"
     ]
    }
   ],
   "source": [
    "def is_armstrong(N):\n",
    "    # Convert the number to a string to count the number of digits\n",
    "    N_str = str(N)\n",
    "    num_digits = len(N_str)\n",
    "    \n",
    "    # Calculate the sum of each digit raised to the power of num_digits\n",
    "    sum_of_powers = sum(int(digit) ** num_digits for digit in N_str)\n",
    "    \n",
    "    # If the sum is equal to the original number, it's an Armstrong number\n",
    "    return sum_of_powers == N\n",
    "\n",
    "# Example usage\n",
    "print(is_armstrong(153))  # True: 1^3 + 5^3 + 3^3 = 153\n",
    "print(is_armstrong(370))  # True: 3^3 + 7^3 + 0^3 = 370\n",
    "print(is_armstrong(123))  # False: 1^3 + 2^3 + 3^3 != 123\n"
   ]
  },
  {
   "cell_type": "markdown",
   "id": "71da98ab",
   "metadata": {},
   "source": [
    "### 6.Check whether a number is Perfect Number or not\n",
    "\n"
   ]
  },
  {
   "cell_type": "code",
   "execution_count": 6,
   "id": "6b0865a3",
   "metadata": {},
   "outputs": [
    {
     "name": "stdout",
     "output_type": "stream",
     "text": [
      "6 is a perfect number\n",
      "15 is not a perfect number\n",
      "28 is a perfect number\n"
     ]
    }
   ],
   "source": [
    "def is_perfect_number(n):\n",
    "    # Initialize sum of divisors\n",
    "    sum_of_divisors = 0\n",
    "    \n",
    "    # Loop through all numbers from 1 to n//2 (since divisors are <= n//2)\n",
    "    for i in range(1, n // 2 + 1):\n",
    "        if n % i == 0:\n",
    "            sum_of_divisors += i\n",
    "    \n",
    "    # Check if sum of divisors equals the number itself\n",
    "    if sum_of_divisors == n:\n",
    "        return f\"{n} is a perfect number\"\n",
    "    else:\n",
    "        return f\"{n} is not a perfect number\"\n",
    "\n",
    "# Example usage\n",
    "print(is_perfect_number(6))   # Output: 6 is a perfect number\n",
    "print(is_perfect_number(15))  # Output: 15 is not a perfect number\n",
    "print(is_perfect_number(28))  # Output: 28 is a perfect number\n"
   ]
  },
  {
   "cell_type": "markdown",
   "id": "baddd70a",
   "metadata": {},
   "source": [
    "### 7.Check whether a given number is even or odd\n",
    "\n"
   ]
  },
  {
   "cell_type": "code",
   "execution_count": 7,
   "id": "bb15f1e7",
   "metadata": {},
   "outputs": [
    {
     "name": "stdout",
     "output_type": "stream",
     "text": [
      "odd\n",
      "even\n"
     ]
    }
   ],
   "source": [
    "def check_even_odd(n):\n",
    "    if n % 2 == 0:\n",
    "        return \"even\"\n",
    "    else:\n",
    "        return \"odd\"\n",
    "\n",
    "# Example usage\n",
    "print(check_even_odd(5))  # Output: odd\n",
    "print(check_even_odd(6))  # Output: even\n"
   ]
  },
  {
   "cell_type": "markdown",
   "id": "38f2a1e9",
   "metadata": {},
   "source": [
    "### 8.Check whether a number is positive or negative\n",
    "\n"
   ]
  },
  {
   "cell_type": "code",
   "execution_count": 8,
   "id": "f22f05b9",
   "metadata": {},
   "outputs": [
    {
     "name": "stdout",
     "output_type": "stream",
     "text": [
      "Positive\n",
      "Negative\n",
      "Zero\n"
     ]
    }
   ],
   "source": [
    "def check_positive_negative(n):\n",
    "    if n > 0:\n",
    "        return \"Positive\"\n",
    "    elif n < 0:\n",
    "        return \"Negative\"\n",
    "    else:\n",
    "        return \"Zero\"  # In case the number is 0\n",
    "\n",
    "# Example usage\n",
    "print(check_positive_negative(5))   # Output: Positive\n",
    "print(check_positive_negative(-6))  # Output: Negative\n",
    "print(check_positive_negative(0))   # Output: Zero\n"
   ]
  },
  {
   "cell_type": "markdown",
   "id": "d908a40c",
   "metadata": {},
   "source": [
    "### 9.Sum of first N Natural Numbers\n",
    "\n"
   ]
  },
  {
   "cell_type": "code",
   "execution_count": 9,
   "id": "1c16b2e9",
   "metadata": {},
   "outputs": [
    {
     "name": "stdout",
     "output_type": "stream",
     "text": [
      "15\n",
      "21\n"
     ]
    }
   ],
   "source": [
    "def sum_of_natural_numbers(N):\n",
    "    # Using the formula for the sum of the first N natural numbers\n",
    "    return N * (N + 1) // 2\n",
    "\n",
    "# Example usage\n",
    "print(sum_of_natural_numbers(5))  # Output: 15\n",
    "print(sum_of_natural_numbers(6))  # Output: 21\n"
   ]
  },
  {
   "cell_type": "markdown",
   "id": "b63405a4",
   "metadata": {},
   "source": [
    "### 10.Find Sum of AP Series\n",
    "\n"
   ]
  },
  {
   "cell_type": "code",
   "execution_count": 15,
   "id": "5444dd79",
   "metadata": {},
   "outputs": [
    {
     "name": "stdout",
     "output_type": "stream",
     "text": [
      "Input:\n",
      "n = 4\n",
      "a = 2\n",
      "d = 2\n",
      "Output: 20.0\n",
      "\n",
      "Input:\n",
      "n = 8\n",
      "a = -2\n",
      "d = 5\n",
      "Output: 124.0\n",
      "\n",
      "Input:\n",
      "n = 5\n",
      "a = 10\n",
      "d = -1\n",
      "Output: 40.0\n",
      "\n",
      "Input:\n",
      "n = 1\n",
      "a = 5\n",
      "d = 0\n",
      "Output: 5.0\n",
      "\n",
      "Input:\n",
      "n = 0\n",
      "a = 5\n",
      "d = 0\n",
      "Output: 0\n"
     ]
    }
   ],
   "source": [
    "# def sum_of_ap(n, a, d):\n",
    "#     # Using the formula to calculate the sum of the A.P.\n",
    "#     return (n * (2 * a + (n - 1) * d)) // 2\n",
    "\n",
    "# # Example usage\n",
    "# print(sum_of_ap(4, 2, 2))  # Output: 20\n",
    "# print(sum_of_ap(8, 2, 5))  # Output: 124\n",
    "\n",
    "def sum_ap_series(n, a, d):\n",
    "    \"\"\"\n",
    "    Calculates the sum of an arithmetic progression (AP) series.\n",
    "\n",
    "    Args:\n",
    "        n: The number of terms in the AP series.\n",
    "        a: The first term of the AP series.\n",
    "        d: The common difference of the AP series.\n",
    "\n",
    "    Returns:\n",
    "        The sum of the AP series.\n",
    "    \"\"\"\n",
    "    if n <= 0:\n",
    "        return 0  # Handle the case where there are no terms or a negative number of terms\n",
    "    return (n / 2) * (2 * a + (n - 1) * d)\n",
    "\n",
    "# Example usage:\n",
    "n1 = 4\n",
    "a1 = 2\n",
    "d1 = 2\n",
    "output1 = sum_ap_series(n1, a1, d1)\n",
    "print(f\"Input:\\nn = {n1}\\na = {a1}\\nd = {d1}\")\n",
    "print(f\"Output: {output1}\")  # Output: 20\n",
    "\n",
    "n2 = 8\n",
    "a2 = -2\n",
    "d2 = 5\n",
    "output2 = sum_ap_series(n2, a2, d2)\n",
    "print(f\"\\nInput:\\nn = {n2}\\na = {a2}\\nd = {d2}\")\n",
    "print(f\"Output: {output2}\")  # Output: 124\n",
    "\n",
    "n3 = 5\n",
    "a3 = 10\n",
    "d3 = -1\n",
    "output3 = sum_ap_series(n3, a3, d3)\n",
    "print(f\"\\nInput:\\nn = {n3}\\na = {a3}\\nd = {d3}\")\n",
    "print(f\"Output: {output3}\")\n",
    "\n",
    "n4 = 1\n",
    "a4 = 5\n",
    "d4 = 0\n",
    "output4 = sum_ap_series(n4, a4, d4)\n",
    "print(f\"\\nInput:\\nn = {n4}\\na = {a4}\\nd = {d4}\")\n",
    "print(f\"Output: {output4}\")\n",
    "\n",
    "n5 = 0\n",
    "a5 = 5\n",
    "d5 = 0\n",
    "output5 = sum_ap_series(n5, a5, d5)\n",
    "print(f\"\\nInput:\\nn = {n5}\\na = {a5}\\nd = {d5}\")\n",
    "print(f\"Output: {output5}\")\n",
    "\n"
   ]
  },
  {
   "cell_type": "markdown",
   "id": "99b96874",
   "metadata": {},
   "source": [
    "### 11.Program to find Sum of GP Series\n",
    "\n"
   ]
  },
  {
   "cell_type": "code",
   "execution_count": 16,
   "id": "cea4010a",
   "metadata": {},
   "outputs": [
    {
     "name": "stdout",
     "output_type": "stream",
     "text": [
      "1.75\n",
      "18.0\n"
     ]
    }
   ],
   "source": [
    "def sum_of_gp(a, r, n):\n",
    "    # Check if r is 1 to avoid division by zero\n",
    "    if r == 1:\n",
    "        return a * n  # Sum when r = 1 is simply a * n\n",
    "    \n",
    "    # Use the formula for sum of G.P. when r != 1\n",
    "    return a * (1 - r ** n) / (1 - r)\n",
    "\n",
    "# Example usage\n",
    "print(sum_of_gp(1, 0.5, 3))  # Output: 1.75\n",
    "print(sum_of_gp(3, 5, 2))    # Output: 18\n"
   ]
  },
  {
   "cell_type": "markdown",
   "id": "2e8b26bb",
   "metadata": {},
   "source": [
    "### 12.Greatest of two numbers\n",
    "\n"
   ]
  },
  {
   "cell_type": "code",
   "execution_count": 17,
   "id": "2a75c5bf",
   "metadata": {},
   "outputs": [
    {
     "name": "stdout",
     "output_type": "stream",
     "text": [
      "3\n",
      "1.124\n"
     ]
    }
   ],
   "source": [
    "def greatest_of_two(num1, num2):\n",
    "    # Compare the two numbers and return the greater one\n",
    "    return max(num1, num2)\n",
    "\n",
    "# Example usage\n",
    "print(greatest_of_two(1, 3))        # Output: 3\n",
    "print(greatest_of_two(1.123, 1.124))  # Output: 1.124\n",
    "\n"
   ]
  },
  {
   "cell_type": "markdown",
   "id": "d2e36e10",
   "metadata": {},
   "source": [
    "### 13.Greatest of three numbers\n",
    "\n"
   ]
  },
  {
   "cell_type": "code",
   "execution_count": 18,
   "id": "fa206382",
   "metadata": {},
   "outputs": [
    {
     "name": "stdout",
     "output_type": "stream",
     "text": [
      "5\n",
      "1.125\n"
     ]
    }
   ],
   "source": [
    "def greatest_of_three(num1, num2, num3):\n",
    "    # Compare the three numbers and return the greatest one\n",
    "    return max(num1, num2, num3)\n",
    "\n",
    "# Example usage\n",
    "print(greatest_of_three(1, 3, 5))        # Output: 5\n",
    "print(greatest_of_three(1.123, 1.124, 1.125))  # Output: 1.125\n"
   ]
  },
  {
   "cell_type": "markdown",
   "id": "5c10996e",
   "metadata": {},
   "source": [
    "### 14.Check if given year is a leap year or not\n",
    "\n"
   ]
  },
  {
   "cell_type": "code",
   "execution_count": 19,
   "id": "02633de5",
   "metadata": {},
   "outputs": [
    {
     "name": "stdout",
     "output_type": "stream",
     "text": [
      "Yes\n",
      "Yes\n",
      "No\n",
      "No\n"
     ]
    }
   ],
   "source": [
    "def is_leap_year(year):\n",
    "    if (year % 400 == 0) or (year % 4 == 0 and year % 100 != 0):\n",
    "        return \"Yes\"\n",
    "    else:\n",
    "        return \"No\"\n",
    "\n",
    "# Example usage\n",
    "print(is_leap_year(1996))  # Output: Yes\n",
    "print(is_leap_year(2000))  # Output: Yes\n",
    "print(is_leap_year(1900))  # Output: No\n",
    "print(is_leap_year(2023))  # Output: No\n"
   ]
  },
  {
   "cell_type": "markdown",
   "id": "95d185a7",
   "metadata": {},
   "source": [
    "### 15.Reverse digits of a number\n",
    "\n"
   ]
  },
  {
   "cell_type": "code",
   "execution_count": 20,
   "id": "320c61b8",
   "metadata": {},
   "outputs": [
    {
     "name": "stdout",
     "output_type": "stream",
     "text": [
      "274\n",
      "74\n"
     ]
    }
   ],
   "source": [
    "def reverse_number(n):\n",
    "    # Convert number to string, reverse it, and convert back to integer\n",
    "    return int(str(n)[::-1])\n",
    "\n",
    "# Example usage\n",
    "print(reverse_number(472))  # Output: 274\n",
    "print(reverse_number(470))  # Output: 74\n"
   ]
  },
  {
   "cell_type": "markdown",
   "id": "d7540dd4",
   "metadata": {},
   "source": [
    "### 16.Maximum and Minimum Digit in a Number\n",
    "\n"
   ]
  },
  {
   "cell_type": "code",
   "execution_count": 21,
   "id": "4e5b6cc6",
   "metadata": {},
   "outputs": [
    {
     "name": "stdout",
     "output_type": "stream",
     "text": [
      "Largest digit: 7\n",
      "Smallest digit: 2\n",
      "Largest digit: 4\n",
      "Smallest digit: 0\n"
     ]
    }
   ],
   "source": [
    "def smallest_and_largest_digit(n):\n",
    "    digits = [int(d) for d in str(n)]\n",
    "    smallest = min(digits)\n",
    "    largest = max(digits)\n",
    "    print(f\"Largest digit: {largest}\")\n",
    "    print(f\"Smallest digit: {smallest}\")\n",
    "\n",
    "# Example usage\n",
    "smallest_and_largest_digit(2746)\n",
    "# Output: Largest digit: 7\n",
    "#         Smallest digit: 2\n",
    "\n",
    "smallest_and_largest_digit(23004)\n",
    "# Output: Largest digit: 4\n",
    "#         Smallest digit: 0\n"
   ]
  },
  {
   "cell_type": "markdown",
   "id": "38783381",
   "metadata": {},
   "source": [
    "### 17.Print Fibonacci Series up to Nth term\n",
    "\n"
   ]
  },
  {
   "cell_type": "code",
   "execution_count": 25,
   "id": "12c18970",
   "metadata": {},
   "outputs": [
    {
     "name": "stdout",
     "output_type": "stream",
     "text": [
      "0 1 1 2 3 5 \n",
      "0 1 1 2 3 5 8 0 1 1 2 3 5 \n",
      "0 1 1 2 3 5 8 "
     ]
    }
   ],
   "source": [
    "def fibonacci_series(n):\n",
    "    a, b = 0, 1\n",
    "    for i in range(n + 1):\n",
    "        print(a, end=' ')\n",
    "        a, b = b, a + b\n",
    "\n",
    "# Example usage\n",
    "fibonacci_series(5)  # Output: 0 1 1 2 3 5\n",
    "print()              # For newline\n",
    "fibonacci_series(6)  # Output: 0 1 1 2 3 5 8\n",
    "\n",
    "def fibonacci_recursive(n):\n",
    "    if n == 0:\n",
    "        return 0\n",
    "    elif n == 1:\n",
    "        return 1\n",
    "    else:\n",
    "        return fibonacci_recursive(n - 1) + fibonacci_recursive(n - 2)\n",
    "\n",
    "def print_fibonacci_series(n):\n",
    "    for i in range(n + 1):\n",
    "        print(fibonacci_recursive(i), end=' ')\n",
    "\n",
    "# Example usage\n",
    "print_fibonacci_series(5)  # Output: 0 1 1 2 3 5\n",
    "print()                    # For newline\n",
    "print_fibonacci_series(6)  # Output: 0 1 1 2 3 5 8\n",
    "\n"
   ]
  },
  {
   "cell_type": "markdown",
   "id": "db6b4724",
   "metadata": {},
   "source": [
    "### 18.Factorial of a Number : Iterative and Recursive\n",
    "\n",
    "\n"
   ]
  },
  {
   "cell_type": "code",
   "execution_count": 24,
   "id": "8b359e2d",
   "metadata": {},
   "outputs": [
    {
     "name": "stdout",
     "output_type": "stream",
     "text": [
      "Iterative: 120\n",
      "Iterative: 6\n",
      "Recursive: 120\n",
      "Recursive: 6\n"
     ]
    }
   ],
   "source": [
    "def factorial_iterative(x):\n",
    "    result = 1\n",
    "    for i in range(2, x + 1):\n",
    "        result *= i\n",
    "    return result\n",
    "\n",
    "# Example usage\n",
    "print(\"Iterative:\", factorial_iterative(5))  # Output: 120\n",
    "print(\"Iterative:\", factorial_iterative(3))  # Output: 6\n",
    "\n",
    "def factorial_recursive(x):\n",
    "    if x == 0 or x == 1:\n",
    "        return 1\n",
    "    else:\n",
    "        return x * factorial_recursive(x - 1)\n",
    "\n",
    "# Example usage\n",
    "print(\"Recursive:\", factorial_recursive(5))  # Output: 120\n",
    "print(\"Recursive:\", factorial_recursive(3))  # Output: 6\n"
   ]
  },
  {
   "cell_type": "markdown",
   "id": "3ea7bbbe",
   "metadata": {},
   "source": [
    "### 19.Calculate the Power of a Number : Binary Exponentiation\n",
    "\n"
   ]
  },
  {
   "cell_type": "code",
   "execution_count": 28,
   "id": "664db470",
   "metadata": {},
   "outputs": [
    {
     "name": "stdout",
     "output_type": "stream",
     "text": [
      "32\n",
      "441\n",
      "32\n",
      "441\n",
      "32\n",
      "441\n"
     ]
    }
   ],
   "source": [
    "def power_builtin(x, n):\n",
    "    return x ** n\n",
    "\n",
    "# Example usage\n",
    "print(power_builtin(2, 5))   # Output: 32\n",
    "print(power_builtin(21, 2))  # Output: 441\n",
    "\n",
    "def power_iterative(x, n):\n",
    "    result = 1\n",
    "    for _ in range(n):\n",
    "        result *= x\n",
    "    return result\n",
    "\n",
    "# Example usage\n",
    "print(power_iterative(2, 5))   # Output: 32\n",
    "print(power_iterative(21, 2))  # Output: 441\n",
    "\n",
    "\n",
    "def power_recursive(x, n):\n",
    "    if n == 0:\n",
    "        return 1\n",
    "    return x * power_recursive(x, n - 1)\n",
    "\n",
    "# Example usage\n",
    "print(power_recursive(2, 5))   # Output: 32\n",
    "print(power_recursive(21, 2))  # Output: 441\n",
    "\n"
   ]
  },
  {
   "cell_type": "markdown",
   "id": "844e703c",
   "metadata": {},
   "source": [
    "### 20.Factors of a Given Number\n",
    "\n"
   ]
  },
  {
   "cell_type": "code",
   "execution_count": 29,
   "id": "8a211f7c",
   "metadata": {},
   "outputs": [
    {
     "name": "stdout",
     "output_type": "stream",
     "text": [
      "Factors of 6: [1, 2, 3, 6]\n",
      "Factors of 9: [1, 3, 9]\n"
     ]
    }
   ],
   "source": [
    "def find_factors(n):\n",
    "    factors = []\n",
    "    for i in range(1, n + 1):\n",
    "        if n % i == 0:\n",
    "            factors.append(i)\n",
    "    return factors\n",
    "\n",
    "# Example usage\n",
    "print(\"Factors of 6:\", find_factors(6))  # Output: 1, 2, 3, 6\n",
    "print(\"Factors of 9:\", find_factors(9))  # Output: 1, 3, 9\n"
   ]
  },
  {
   "cell_type": "markdown",
   "id": "eb027d9b",
   "metadata": {},
   "source": [
    "### 21.Print all Prime Factors of the given number\n",
    "\n"
   ]
  },
  {
   "cell_type": "code",
   "execution_count": 30,
   "id": "a39c5d65",
   "metadata": {},
   "outputs": [
    {
     "name": "stdout",
     "output_type": "stream",
     "text": [
      "Prime factors of 60: [2, 3, 5]\n",
      "Prime factors of 35: [5, 7]\n"
     ]
    }
   ],
   "source": [
    "def is_prime(num):\n",
    "    if num <= 1:\n",
    "        return False\n",
    "    for i in range(2, int(num ** 0.5) + 1):\n",
    "        if num % i == 0:\n",
    "            return False\n",
    "    return True\n",
    "\n",
    "def prime_factors(N):\n",
    "    factors = []\n",
    "    for i in range(2, N + 1):\n",
    "        if N % i == 0 and is_prime(i):\n",
    "            factors.append(i)\n",
    "    return factors\n",
    "\n",
    "# Example usage\n",
    "print(\"Prime factors of 60:\", prime_factors(60))  # Output: 2, 3, 5\n",
    "print(\"Prime factors of 35:\", prime_factors(35))  # Output: 5, 7\n"
   ]
  },
  {
   "cell_type": "markdown",
   "id": "679ceaf6",
   "metadata": {},
   "source": [
    "### 22.Check if a number is a Strong Number or not\n",
    "\n"
   ]
  },
  {
   "cell_type": "code",
   "execution_count": 31,
   "id": "466a8421",
   "metadata": {},
   "outputs": [
    {
     "name": "stdout",
     "output_type": "stream",
     "text": [
      "Yes\n",
      "No\n"
     ]
    }
   ],
   "source": [
    "def factorial(n):\n",
    "    if n == 0 or n == 1:\n",
    "        return 1\n",
    "    return n * factorial(n - 1)\n",
    "\n",
    "def is_strong_number(N):\n",
    "    original = N\n",
    "    sum_of_factorials = 0\n",
    "\n",
    "    while N > 0:\n",
    "        digit = N % 10\n",
    "        sum_of_factorials += factorial(digit)\n",
    "        N //= 10\n",
    "\n",
    "    return sum_of_factorials == original\n",
    "\n",
    "# Example usage\n",
    "N1 = 145\n",
    "N2 = 26\n",
    "\n",
    "print(\"Yes\" if is_strong_number(N1) else \"No\")  # Output: Yes\n",
    "print(\"Yes\" if is_strong_number(N2) else \"No\")  # Output: No\n"
   ]
  },
  {
   "cell_type": "markdown",
   "id": "9d6989c7",
   "metadata": {},
   "source": [
    "### 23.Check if a number is Automorphic Number\n",
    "\n"
   ]
  },
  {
   "cell_type": "code",
   "execution_count": 32,
   "id": "ca89d274",
   "metadata": {},
   "outputs": [
    {
     "name": "stdout",
     "output_type": "stream",
     "text": [
      "Automorphic Number\n",
      "Automorphic Number\n",
      "Not an Automorphic Number\n"
     ]
    }
   ],
   "source": [
    "def is_automorphic(N):\n",
    "    square = N * N\n",
    "    return str(square).endswith(str(N))\n",
    "\n",
    "# Example usage\n",
    "N1 = 76\n",
    "N2 = 25\n",
    "N3 = 14\n",
    "\n",
    "print(\"Automorphic Number\" if is_automorphic(N1) else \"Not an Automorphic Number\")  # Output: Automorphic Number\n",
    "print(\"Automorphic Number\" if is_automorphic(N2) else \"Not an Automorphic Number\")  # Output: Automorphic Number\n",
    "print(\"Automorphic Number\" if is_automorphic(N3) else \"Not an Automorphic Number\")  # Output: Not an Automorphic Number\n"
   ]
  },
  {
   "cell_type": "markdown",
   "id": "ea732b99",
   "metadata": {},
   "source": [
    "### 24.Find GCD of two numbers\n",
    "\n"
   ]
  },
  {
   "cell_type": "code",
   "execution_count": 34,
   "id": "8e1b53dd",
   "metadata": {},
   "outputs": [
    {
     "name": "stdout",
     "output_type": "stream",
     "text": [
      "3\n",
      "5\n",
      "3\n",
      "5\n"
     ]
    }
   ],
   "source": [
    "def gcd(n1, n2):\n",
    "    while n2 != 0:\n",
    "        n1, n2 = n2, n1 % n2\n",
    "    return n1\n",
    "\n",
    "# Example usage\n",
    "print(gcd(9, 12))  # Output: 3\n",
    "print(gcd(20, 15))  # Output: 5\n",
    "\n",
    "def gcd_recursive(n1, n2):\n",
    "    if n2 == 0:\n",
    "        return n1\n",
    "    return gcd_recursive(n2, n1 % n2)\n",
    "\n",
    "# Example usage\n",
    "print(gcd_recursive(9, 12))  # Output: 3\n",
    "print(gcd_recursive(20, 15))  # Output: 5\n",
    "\n"
   ]
  },
  {
   "cell_type": "markdown",
   "id": "5e60e853",
   "metadata": {},
   "source": [
    "### 25.Find LCM of two numbers\n",
    "\n"
   ]
  },
  {
   "cell_type": "code",
   "execution_count": 36,
   "id": "90dcd505",
   "metadata": {},
   "outputs": [
    {
     "name": "stdout",
     "output_type": "stream",
     "text": [
      "8\n",
      "6\n",
      "8\n",
      "6\n"
     ]
    }
   ],
   "source": [
    "def gcd(n1, n2):\n",
    "    # Function to calculate GCD using recursion (Euclidean algorithm)\n",
    "    if n2 == 0:\n",
    "        return n1\n",
    "    return gcd(n2, n1 % n2)\n",
    "\n",
    "def lcm(n1, n2):\n",
    "    # Function to calculate LCM using the formula LCM = (n1 * n2) / GCD(n1, n2)\n",
    "    return abs(n1 * n2) // gcd(n1, n2)\n",
    "\n",
    "# Example usage\n",
    "print(lcm(4, 8))  # Output: 8\n",
    "print(lcm(3, 6))  # Output: 6\n",
    "\n",
    "\n",
    "import math\n",
    "\n",
    "def lcm(num1, num2):\n",
    "    return abs(num1 * num2) // math.gcd(num1, num2)\n",
    "\n",
    "# Example usage\n",
    "print(lcm(4, 8))  # Output: 8\n",
    "print(lcm(3, 6))  # Output: 6\n"
   ]
  },
  {
   "cell_type": "markdown",
   "id": "6028710a",
   "metadata": {},
   "source": [
    "### 26.Check if the given number is Harshad(Or Niven) Number\n",
    "\n"
   ]
  },
  {
   "cell_type": "code",
   "execution_count": 37,
   "id": "dbd4e161",
   "metadata": {},
   "outputs": [
    {
     "name": "stdout",
     "output_type": "stream",
     "text": [
      "Yes it is a Harshad number.\n",
      "No it is not a Harshad number.\n"
     ]
    }
   ],
   "source": [
    "def is_harshad_number(n):\n",
    "    # Calculate the sum of digits\n",
    "    sum_of_digits = sum(int(digit) for digit in str(n))\n",
    "    \n",
    "    # Check if the number is divisible by the sum of its digits\n",
    "    if n % sum_of_digits == 0:\n",
    "        return \"Yes it is a Harshad number.\"\n",
    "    else:\n",
    "        return \"No it is not a Harshad number.\"\n",
    "\n",
    "# Example usage\n",
    "print(is_harshad_number(378))  # Output: Yes it is a Harshad number.\n",
    "print(is_harshad_number(379))  # Output: No it is not a Harshad number.\n"
   ]
  },
  {
   "cell_type": "markdown",
   "id": "9f2ad10c",
   "metadata": {},
   "source": [
    "### 27.Check if the number is an abundant number or not\n",
    "\n"
   ]
  },
  {
   "cell_type": "code",
   "execution_count": 38,
   "id": "edd9654e",
   "metadata": {},
   "outputs": [
    {
     "name": "stdout",
     "output_type": "stream",
     "text": [
      "Abundant Number\n",
      "Not Abundant Number\n"
     ]
    }
   ],
   "source": [
    "def sum_of_divisors(n):\n",
    "    # Function to calculate the sum of proper divisors of a number\n",
    "    divisors_sum = 0\n",
    "    for i in range(1, n // 2 + 1):\n",
    "        if n % i == 0:\n",
    "            divisors_sum += i\n",
    "    return divisors_sum\n",
    "\n",
    "def is_abundant_number(n):\n",
    "    # Check if the sum of divisors is greater than the number itself\n",
    "    if sum_of_divisors(n) > n:\n",
    "        return \"Abundant Number\"\n",
    "    else:\n",
    "        return \"Not Abundant Number\"\n",
    "\n",
    "# Example usage\n",
    "print(is_abundant_number(18))  # Output: Abundant Number\n",
    "print(is_abundant_number(21))  # Output: Not Abundant Number\n"
   ]
  },
  {
   "cell_type": "markdown",
   "id": "0446e5b3",
   "metadata": {},
   "source": [
    "### 28.Sum Of Digits of A Number\n",
    "\n"
   ]
  },
  {
   "cell_type": "code",
   "execution_count": 39,
   "id": "531d8250",
   "metadata": {},
   "outputs": [
    {
     "name": "stdout",
     "output_type": "stream",
     "text": [
      "13\n",
      "3\n"
     ]
    }
   ],
   "source": [
    "def sum_of_digits(n):\n",
    "    total = 0\n",
    "    while n > 0:\n",
    "        total += n % 10  # Add the last digit to the total\n",
    "        n = n // 10      # Remove the last digit\n",
    "    return total\n",
    "\n",
    "# Example usage\n",
    "print(sum_of_digits(472))  # Output: 13\n",
    "print(sum_of_digits(102))  # Output: 3\n"
   ]
  },
  {
   "cell_type": "markdown",
   "id": "e895c31e",
   "metadata": {},
   "source": [
    "### 29.Find the sum of numbers in the given range\n",
    "\n"
   ]
  },
  {
   "cell_type": "code",
   "execution_count": 41,
   "id": "8922ccfc",
   "metadata": {},
   "outputs": [
    {
     "name": "stdout",
     "output_type": "stream",
     "text": [
      "27\n",
      "35\n"
     ]
    }
   ],
   "source": [
    "def sum_of_range(l, r):\n",
    "    total = 0\n",
    "    for num in range(l, r + 1):\n",
    "        total += num\n",
    "    return total\n",
    "\n",
    "# Example usage\n",
    "print(sum_of_range(2, 7))  # Output: 27\n",
    "print(sum_of_range(5, 9))  # Output: 35\n"
   ]
  },
  {
   "cell_type": "markdown",
   "id": "6208cd34",
   "metadata": {},
   "source": [
    "### 30.Permutations in which N people can occupy R seats\n",
    "\n"
   ]
  },
  {
   "cell_type": "code",
   "execution_count": 42,
   "id": "2622bbfe",
   "metadata": {},
   "outputs": [
    {
     "name": "stdout",
     "output_type": "stream",
     "text": [
      "60\n",
      "360\n"
     ]
    }
   ],
   "source": [
    "import math\n",
    "\n",
    "def permutations(n, r):\n",
    "    return math.factorial(n) // math.factorial(n - r)\n",
    "\n",
    "# Example usage\n",
    "print(permutations(5, 3))  # Output: 60\n",
    "print(permutations(6, 4))  # Output: 360\n"
   ]
  },
  {
   "cell_type": "markdown",
   "id": "877e3b79",
   "metadata": {},
   "source": [
    "### 31.Program to Add two fractions\n",
    "\n"
   ]
  },
  {
   "cell_type": "code",
   "execution_count": 43,
   "id": "d6f68285",
   "metadata": {},
   "outputs": [
    {
     "name": "stdout",
     "output_type": "stream",
     "text": [
      "25/28\n",
      "3/1\n"
     ]
    }
   ],
   "source": [
    "import math\n",
    "\n",
    "# Function to calculate LCM of two numbers\n",
    "def lcm(a, b):\n",
    "    return abs(a * b) // math.gcd(a, b)\n",
    "\n",
    "# Function to add two fractions\n",
    "def add_fractions(n1, d1, n2, d2):\n",
    "    # Step 1: Find LCM of the two denominators\n",
    "    lcd = lcm(d1, d2)\n",
    "    \n",
    "    # Step 2: Convert the fractions to the same denominator\n",
    "    n1_new = n1 * (lcd // d1)\n",
    "    n2_new = n2 * (lcd // d2)\n",
    "    \n",
    "    # Step 3: Add the numerators\n",
    "    num_sum = n1_new + n2_new\n",
    "    \n",
    "    # Step 4: Simplify the result\n",
    "    gcd = math.gcd(num_sum, lcd)\n",
    "    num_sum //= gcd\n",
    "    lcd //= gcd\n",
    "    \n",
    "    return f\"{num_sum}/{lcd}\"\n",
    "\n",
    "# Example usage\n",
    "print(add_fractions(3, 4, 1, 7))  # Output: 25/28\n",
    "print(add_fractions(5, 2, 1, 2))  # Output: 3/1\n"
   ]
  },
  {
   "cell_type": "markdown",
   "id": "aa61b293",
   "metadata": {},
   "source": [
    "### 32.Replace all the 0’s with 1 in a given integer\n",
    "\n"
   ]
  },
  {
   "cell_type": "code",
   "execution_count": 44,
   "id": "4bc607ef",
   "metadata": {},
   "outputs": [
    {
     "name": "stdout",
     "output_type": "stream",
     "text": [
      "112113\n",
      "214\n"
     ]
    }
   ],
   "source": [
    "def replace_zeros_with_ones(n):\n",
    "    # Convert the number to string and replace '0' with '1'\n",
    "    result_str = str(n).replace('0', '1')\n",
    "    \n",
    "    # Convert the modified string back to an integer\n",
    "    result = int(result_str)\n",
    "    \n",
    "    return result\n",
    "\n",
    "# Example usage\n",
    "print(replace_zeros_with_ones(102003))  # Output: 112113\n",
    "print(replace_zeros_with_ones(204))     # Output: 214\n"
   ]
  },
  {
   "cell_type": "markdown",
   "id": "6e9b0ebb",
   "metadata": {},
   "source": [
    "### 33.Express given number as Sum of Two Prime Numbers"
   ]
  },
  {
   "cell_type": "code",
   "execution_count": 45,
   "id": "e5722020",
   "metadata": {},
   "outputs": [
    {
     "name": "stdout",
     "output_type": "stream",
     "text": [
      "True\n",
      "False\n"
     ]
    }
   ],
   "source": [
    "def is_prime(num):\n",
    "    if num <= 1:\n",
    "        return False\n",
    "    for i in range(2, int(num ** 0.5) + 1):\n",
    "        if num % i == 0:\n",
    "            return False\n",
    "    return True\n",
    "\n",
    "def can_be_expressed_as_sum_of_primes(n):\n",
    "    for i in range(2, n):\n",
    "        if is_prime(i) and is_prime(n - i):\n",
    "            return True\n",
    "    return False\n",
    "\n",
    "# Example usage\n",
    "print(can_be_expressed_as_sum_of_primes(74))  # Output: True (74 = 71 + 3)\n",
    "print(can_be_expressed_as_sum_of_primes(11))  # Output: False\n"
   ]
  },
  {
   "cell_type": "markdown",
   "id": "736b9de1",
   "metadata": {},
   "source": [
    "### 34.Calculate the Area of the Circle\n",
    "\n"
   ]
  },
  {
   "cell_type": "code",
   "execution_count": 46,
   "id": "91392ef8",
   "metadata": {},
   "outputs": [
    {
     "name": "stdout",
     "output_type": "stream",
     "text": [
      "78.5\n",
      "50.3\n"
     ]
    }
   ],
   "source": [
    "import math\n",
    "\n",
    "def calculate_area_of_circle(radius):\n",
    "    # Using math.pi for the value of Pi\n",
    "    area = math.pi * radius ** 2\n",
    "    return round(area, 1)  # rounding the result to 1 decimal place\n",
    "\n",
    "# Example usage\n",
    "print(calculate_area_of_circle(5))  # Output: 78.5\n",
    "print(calculate_area_of_circle(4))  # Output: 50.2\n"
   ]
  },
  {
   "cell_type": "markdown",
   "id": "9eae7273",
   "metadata": {},
   "source": [
    "### 35.Program to Find Roots of a quadratic equation\n",
    "\n"
   ]
  },
  {
   "cell_type": "code",
   "execution_count": 47,
   "id": "191a11ee",
   "metadata": {},
   "outputs": [
    {
     "name": "stdout",
     "output_type": "stream",
     "text": [
      "Roots are real and different, i.e(5.0 , -2.0)\n",
      "Roots are complex, i.e(-0.5+i1.7320508075688772 , -0.5-i1.7320508075688772)\n"
     ]
    }
   ],
   "source": [
    "import cmath  # To handle complex numbers\n",
    "\n",
    "def find_roots(a, b, c):\n",
    "    # Calculate the discriminant\n",
    "    D = b**2 - 4*a*c\n",
    "    \n",
    "    # If discriminant is positive, roots are real and different\n",
    "    if D > 0:\n",
    "        root1 = (-b + cmath.sqrt(D)) / (2 * a)\n",
    "        root2 = (-b - cmath.sqrt(D)) / (2 * a)\n",
    "        return f\"Roots are real and different, i.e({root1.real} , {root2.real})\"\n",
    "    \n",
    "    # If discriminant is zero, roots are real and the same\n",
    "    elif D == 0:\n",
    "        root = -b / (2 * a)\n",
    "        return f\"Roots are real and the same, i.e({root} , {root})\"\n",
    "    \n",
    "    # If discriminant is negative, roots are complex\n",
    "    else:\n",
    "        real_part = -b / (2 * a)\n",
    "        imaginary_part = cmath.sqrt(D).imag\n",
    "        return f\"Roots are complex, i.e({real_part}+i{imaginary_part} , {real_part}-i{imaginary_part})\"\n",
    "\n",
    "# Example usage:\n",
    "print(find_roots(1, -3, -10))  # Roots are real and different, i.e(5 , -2)\n",
    "print(find_roots(1, 1, 1))     # Roots are complex, i.e(-0.5+i1.732 , -0.5-i1.732)\n"
   ]
  }
 ],
 "metadata": {
  "kernelspec": {
   "display_name": "Python 3 (ipykernel)",
   "language": "python",
   "name": "python3"
  },
  "language_info": {
   "codemirror_mode": {
    "name": "ipython",
    "version": 3
   },
   "file_extension": ".py",
   "mimetype": "text/x-python",
   "name": "python",
   "nbconvert_exporter": "python",
   "pygments_lexer": "ipython3",
   "version": "3.10.9"
  }
 },
 "nbformat": 4,
 "nbformat_minor": 5
}
