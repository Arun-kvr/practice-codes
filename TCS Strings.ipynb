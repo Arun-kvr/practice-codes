{
 "cells": [
  {
   "cell_type": "markdown",
   "id": "367581d5",
   "metadata": {},
   "source": [
    "### 1.Plaindrome"
   ]
  },
  {
   "cell_type": "code",
   "execution_count": null,
   "id": "0b506deb",
   "metadata": {},
   "outputs": [],
   "source": [
    "n=input(\"enter the string\")\n",
    "if(n[::-1])==n:\n",
    "    print('palindrome')"
   ]
  },
  {
   "cell_type": "markdown",
   "id": "5ea1d96d",
   "metadata": {},
   "source": [
    "### 2.Counting vowels, consonents and spaces in a string"
   ]
  },
  {
   "cell_type": "code",
   "execution_count": 5,
   "id": "2c249d91",
   "metadata": {},
   "outputs": [
    {
     "name": "stdout",
     "output_type": "stream",
     "text": [
      "enter the string : I am intern\n",
      "Vowels: 4, Consonants: 5, Spaces: 2\n"
     ]
    }
   ],
   "source": [
    "def count_vcs(input_string):\n",
    "    vowels=\"aeiouAEIOU\"\n",
    "    consonents=\"bcdfghjklmnpqrstvwxyzBCDFGHJKLMNPQRSTVWXYZ\"\n",
    "    vowels_count=0\n",
    "    consonent_count=0\n",
    "    space_count=0\n",
    "    \n",
    "    for char in input_string:\n",
    "        if char in vowels:\n",
    "            vowels_count+=1\n",
    "        elif char in consonents:\n",
    "            consonent_count+=1\n",
    "        elif char.isspace():\n",
    "            space_count+=1\n",
    "            \n",
    "    return vowels_count, consonent_count, space_count\n",
    "\n",
    "input_string = input(\"enter the string : \")\n",
    "vowels, consonants, spaces = count_vcs(input_string)\n",
    "print(f\"Vowels: {vowels}, Consonants: {consonants}, Spaces: {spaces}\")"
   ]
  },
  {
   "cell_type": "markdown",
   "id": "5df56bf1",
   "metadata": {},
   "source": [
    "### 3.Removing vowels in a string"
   ]
  },
  {
   "cell_type": "code",
   "execution_count": 6,
   "id": "1d94387e",
   "metadata": {},
   "outputs": [
    {
     "name": "stdout",
     "output_type": "stream",
     "text": [
      "Enter the string here :I am arun\n",
      " m rn\n"
     ]
    }
   ],
   "source": [
    "def remove_vowels(string):\n",
    "    vowels=\"aeiouAEIOU\"\n",
    "    result = ''.join(char for char in string if char not in vowels)\n",
    "    return result\n",
    "\n",
    "string=input(\"Enter the string here :\")\n",
    "print(remove_vowels(string))"
   ]
  },
  {
   "cell_type": "markdown",
   "id": "7cfb86cd",
   "metadata": {},
   "source": [
    "### 4.ASCI finding"
   ]
  },
  {
   "cell_type": "code",
   "execution_count": 12,
   "id": "097b9e39",
   "metadata": {},
   "outputs": [
    {
     "name": "stdout",
     "output_type": "stream",
     "text": [
      "enter the char: a\n",
      "Input: 'a'\n",
      "Output: 97\n"
     ]
    }
   ],
   "source": [
    "def find_ascii_value(character):\n",
    "    if len(character) != 1:\n",
    "        raise ValueError(\"Input must be a single character.\")\n",
    "    return ord(character)\n",
    "\n",
    "# Example usage\n",
    "input_char1 = input(\"enter the char: \")  # You can change this to any character\n",
    "ascii_value1 = find_ascii_value(input_char1)\n",
    "print(f\"Input: '{input_char1}'\\nOutput: {ascii_value1}\")"
   ]
  },
  {
   "cell_type": "markdown",
   "id": "5db56ec1",
   "metadata": {},
   "source": [
    "### 5.Remove non alphabetic character"
   ]
  },
  {
   "cell_type": "code",
   "execution_count": 16,
   "id": "087c3310",
   "metadata": {},
   "outputs": [
    {
     "name": "stdout",
     "output_type": "stream",
     "text": [
      "Enter the string here :I am arun@ $$\n",
      "Iamarun\n"
     ]
    }
   ],
   "source": [
    "def remove_non_alphabhatic_characters(string):\n",
    "    alph=\"abcdefghijklmnopqrstuvwxyzABCDEFGHIJKLMNOPQRSTUVWXYZ\"\n",
    "    result = ''.join(char for char in string if char in alph)\n",
    "    return result\n",
    "\n",
    "string=input(\"Enter the string here :\")\n",
    "print(remove_non_alphabhatic_characters(string))"
   ]
  },
  {
   "cell_type": "markdown",
   "id": "a69b139e",
   "metadata": {},
   "source": [
    "### 6.Reverse a line"
   ]
  },
  {
   "cell_type": "code",
   "execution_count": 17,
   "id": "51b7c4c8",
   "metadata": {},
   "outputs": [
    {
     "name": "stdout",
     "output_type": "stream",
     "text": [
      "Enter the string hereI am arun\n",
      "nura ma I\n"
     ]
    }
   ],
   "source": [
    "def reverse_a_string(input_string):\n",
    "    return input_string[::-1]\n",
    "\n",
    "input_string = input(\"Enter the string here\")\n",
    "print(reverse_a_string(input_string))"
   ]
  },
  {
   "cell_type": "markdown",
   "id": "6188788f",
   "metadata": {},
   "source": [
    "### 7.Remove spaces"
   ]
  },
  {
   "cell_type": "code",
   "execution_count": 14,
   "id": "c647d888",
   "metadata": {},
   "outputs": [
    {
     "name": "stdout",
     "output_type": "stream",
     "text": [
      "Enter the string here :I am arun\n",
      "Iamarun\n"
     ]
    }
   ],
   "source": [
    "def remove_space(input_string):\n",
    "    return input_string.replace(\" \",\"\")\n",
    "\n",
    "string=input(\"Enter the string here :\")\n",
    "print(remove_space(string))"
   ]
  },
  {
   "cell_type": "markdown",
   "id": "1b01dadd",
   "metadata": {},
   "source": [
    "### 8.Remove brackets from string"
   ]
  },
  {
   "cell_type": "code",
   "execution_count": 20,
   "id": "b481f362",
   "metadata": {},
   "outputs": [
    {
     "name": "stdout",
     "output_type": "stream",
     "text": [
      "Enter the string here :a+((b-c)+d)\n",
      "a+b-c+d\n"
     ]
    }
   ],
   "source": [
    "def remove_brackets(expression):\n",
    "    return expression.replace(\"(\", \"\").replace(\")\", \"\")\n",
    "\n",
    "string=input(\"Enter the string here :\")\n",
    "print(remove_brackets(string))\n"
   ]
  },
  {
   "cell_type": "markdown",
   "id": "ef5cdcfa",
   "metadata": {},
   "source": [
    "### 9.Sum of numbers in a string"
   ]
  },
  {
   "cell_type": "code",
   "execution_count": null,
   "id": "20179dae",
   "metadata": {},
   "outputs": [],
   "source": [
    "# import re\n",
    "\n",
    "def sum_of_numbers_in_string(s):\n",
    "    return sum(int(n) for n in re.findall(r'\\d+', s))\n",
    "\n",
    "# Example usage:\n",
    "string1 = input(\"Enter strimg\")\n",
    "output1 = sum_of_numbers_in_string(string1)\n",
    "print(f\"Input: '{string1}'\")\n",
    "print(f\"Output: {output1}\")"
   ]
  },
  {
   "cell_type": "markdown",
   "id": "b91de8cc",
   "metadata": {},
   "source": [
    "### 10.Capitalize first and last char"
   ]
  },
  {
   "cell_type": "code",
   "execution_count": 1,
   "id": "cc3591c9",
   "metadata": {},
   "outputs": [
    {
     "name": "stdout",
     "output_type": "stream",
     "text": [
      "Input: 'take u forward is awesome'\n",
      "Output: 'TakE U ForwarD IS AwesomE'\n"
     ]
    }
   ],
   "source": [
    "def capitalize_first_last(input_string):\n",
    "    words = input_string.split()  # Split the string into a list of words\n",
    "    result_words = []\n",
    "\n",
    "    for word in words:\n",
    "        if len(word) > 1:\n",
    "            first_char = word[0].upper()\n",
    "            last_char = word[-1].upper()\n",
    "            modified_word = first_char + word[1:-1] + last_char\n",
    "            result_words.append(modified_word)\n",
    "        elif len(word) == 1:\n",
    "            result_words.append(word.upper()) # Capitalize single letter words\n",
    "        else:\n",
    "            result_words.append(word) #append empty strings\n",
    "\n",
    "    return \" \".join(result_words)  # Join the modified words back into a string\n",
    "\n",
    "# Example usage:\n",
    "string1 = \"take u forward is awesome\"\n",
    "output1 = capitalize_first_last(string1)\n",
    "print(f\"Input: '{string1}'\")\n",
    "print(f\"Output: '{output1}'\")"
   ]
  },
  {
   "cell_type": "markdown",
   "id": "ea51964b",
   "metadata": {},
   "source": [
    "### 11.Reverse words in a string"
   ]
  },
  {
   "cell_type": "code",
   "execution_count": 2,
   "id": "d4d24a8d",
   "metadata": {},
   "outputs": [
    {
     "name": "stdout",
     "output_type": "stream",
     "text": [
      "Input: s = \"this is an amazing program\"\n",
      "Output: \"program amazing an is this\"\n"
     ]
    }
   ],
   "source": [
    "def reverse_words(s):\n",
    "    words = s.split()  # Split the string into a list of words\n",
    "    reversed_words = words[::-1]  # Reverse the list of words using slicing\n",
    "    return \" \".join(reversed_words)  # Join the reversed words back into a string\n",
    "\n",
    "# Example usage:\n",
    "s1 = \"this is an amazing program\"\n",
    "output1 = reverse_words(s1)\n",
    "print(f\"Input: s = \\\"{s1}\\\"\")\n",
    "print(f\"Output: \\\"{output1}\\\"\")"
   ]
  },
  {
   "cell_type": "markdown",
   "id": "b53e2033",
   "metadata": {},
   "source": [
    "### 12.Find the Position of a Substring within a String"
   ]
  },
  {
   "cell_type": "code",
   "execution_count": 4,
   "id": "659ac94c",
   "metadata": {},
   "outputs": [
    {
     "name": "stdout",
     "output_type": "stream",
     "text": [
      "Input:\n",
      "text = \"takeuforward\"\n",
      "pattern = \"forward\"\n",
      "Output: 5\n",
      "\n",
      "Input:\n",
      "text = \"hello\"\n",
      "pattern = \"az\"\n",
      "Output: -1\n",
      "\n",
      "Input:\n",
      "text = \"abcdefg\"\n",
      "pattern = \"cd\"\n",
      "Output: 2\n",
      "\n",
      "Input:\n",
      "text = \"aaaaaa\"\n",
      "pattern = \"aa\"\n",
      "Output: 0\n",
      "\n",
      "Input:\n",
      "text = \"\"\n",
      "pattern = \"\"\n",
      "Output: 0\n"
     ]
    }
   ],
   "source": [
    "def find_string_occurrence(text, pattern):\n",
    "    \"\"\"\n",
    "    Finds the first occurrence of a pattern within a text.\n",
    "\n",
    "    Args:\n",
    "        text: The string to search within.\n",
    "        pattern: The string to search for.\n",
    "\n",
    "    Returns:\n",
    "        The starting index of the first occurrence of the pattern in the text,\n",
    "        or -1 if the pattern is not found.\n",
    "    \"\"\"\n",
    "    try:\n",
    "        index = text.index(pattern)\n",
    "        return index\n",
    "    except ValueError:\n",
    "        return -1\n",
    "\n",
    "# Example usage:\n",
    "text1 = \"takeuforward\"\n",
    "pattern1 = \"forward\"\n",
    "output1 = find_string_occurrence(text1, pattern1)\n",
    "print(f\"Input:\\ntext = \\\"{text1}\\\"\\npattern = \\\"{pattern1}\\\"\")\n",
    "print(f\"Output: {output1}\")\n",
    "\n",
    "text2 = \"hello\"\n",
    "pattern2 = \"az\"\n",
    "output2 = find_string_occurrence(text2, pattern2)\n",
    "print(f\"\\nInput:\\ntext = \\\"{text2}\\\"\\npattern = \\\"{pattern2}\\\"\")\n",
    "print(f\"Output: {output2}\")\n",
    "\n",
    "text3 = \"abcdefg\"\n",
    "pattern3 = \"cd\"\n",
    "output3 = find_string_occurrence(text3, pattern3)\n",
    "print(f\"\\nInput:\\ntext = \\\"{text3}\\\"\\npattern = \\\"{pattern3}\\\"\")\n",
    "print(f\"Output: {output3}\")\n",
    "\n",
    "text4 = \"aaaaaa\"\n",
    "pattern4 = \"aa\"\n",
    "output4 = find_string_occurrence(text4, pattern4)\n",
    "print(f\"\\nInput:\\ntext = \\\"{text4}\\\"\\npattern = \\\"{pattern4}\\\"\")\n",
    "print(f\"Output: {output4}\")\n",
    "\n",
    "text5 = \"\"\n",
    "pattern5 = \"\"\n",
    "output5 = find_string_occurrence(text5, pattern5)\n",
    "print(f\"\\nInput:\\ntext = \\\"{text5}\\\"\\npattern = \\\"{pattern5}\\\"\")\n",
    "print(f\"Output: {output5}\")\n"
   ]
  },
  {
   "cell_type": "markdown",
   "id": "5db5df68",
   "metadata": {},
   "source": [
    "### 13.Concatenate one string to another"
   ]
  },
  {
   "cell_type": "code",
   "execution_count": 5,
   "id": "86990ab6",
   "metadata": {},
   "outputs": [
    {
     "name": "stdout",
     "output_type": "stream",
     "text": [
      "String 1: \"Hello, \"\n",
      "String 2: \"world!\"\n",
      "Result: \"Hello, world!\"\n"
     ]
    }
   ],
   "source": [
    "def concatenate_strings(str1, str2):\n",
    "    return str1 + str2\n",
    "\n",
    "# Example usage:\n",
    "string1 = \"Hello, \"\n",
    "string2 = \"world!\"\n",
    "result1 = concatenate_strings(string1, string2)\n",
    "print(f\"String 1: \\\"{string1}\\\"\")\n",
    "print(f\"String 2: \\\"{string2}\\\"\")\n",
    "print(f\"Result: \\\"{result1}\\\"\")\n"
   ]
  },
  {
   "cell_type": "markdown",
   "id": "9363b4bd",
   "metadata": {},
   "source": [
    "### 14.Change case of each character in a string"
   ]
  },
  {
   "cell_type": "code",
   "execution_count": 6,
   "id": "c543150a",
   "metadata": {},
   "outputs": [
    {
     "name": "stdout",
     "output_type": "stream",
     "text": [
      "Input: \"javA\"\n",
      "Output: \"JAVa\"\n",
      "\n",
      "Input: \"take u forward IS Awesome\"\n",
      "Output: \"TAKE U FORWARD is aWESOME\"\n",
      "\n",
      "Input: \"Hello World!\"\n",
      "Output: \"hELLO wORLD!\"\n",
      "\n",
      "Input: \"12345\"\n",
      "Output: \"12345\"\n",
      "\n",
      "Input: \"\"\n",
      "Output: \"\"\n"
     ]
    }
   ],
   "source": [
    "def change_case(input_string):\n",
    "    \"\"\"\n",
    "    Changes the case of each character in a string (lower to upper and vice versa).\n",
    "\n",
    "    Args:\n",
    "        input_string: The input string.\n",
    "\n",
    "    Returns:\n",
    "        A new string with the case of each character changed.\n",
    "    \"\"\"\n",
    "    result_string = \"\"\n",
    "    for char in input_string:\n",
    "        if 'a' <= char <= 'z':\n",
    "            result_string += char.upper()\n",
    "        elif 'A' <= char <= 'Z':\n",
    "            result_string += char.lower()\n",
    "        else:\n",
    "            result_string += char  # Keep non-alphabetic characters unchanged\n",
    "    return result_string\n",
    "\n",
    "# Example usage:\n",
    "string1 = \"javA\"\n",
    "output1 = change_case(string1)\n",
    "print(f\"Input: \\\"{string1}\\\"\")\n",
    "print(f\"Output: \\\"{output1}\\\"\")\n",
    "\n",
    "string2 = \"take u forward IS Awesome\"\n",
    "output2 = change_case(string2)\n",
    "print(f\"\\nInput: \\\"{string2}\\\"\")\n",
    "print(f\"Output: \\\"{output2}\\\"\")\n",
    "\n",
    "string3 = \"Hello World!\"\n",
    "output3 = change_case(string3)\n",
    "print(f\"\\nInput: \\\"{string3}\\\"\")\n",
    "print(f\"Output: \\\"{output3}\\\"\")\n",
    "\n",
    "string4 = \"12345\"\n",
    "output4 = change_case(string4)\n",
    "print(f\"\\nInput: \\\"{string4}\\\"\")\n",
    "print(f\"Output: \\\"{output4}\\\"\")\n",
    "\n",
    "string5 = \"\"\n",
    "output5 = change_case(string5)\n",
    "print(f\"\\nInput: \\\"{string5}\\\"\")\n",
    "print(f\"Output: \\\"{output5}\\\"\")\n"
   ]
  },
  {
   "cell_type": "markdown",
   "id": "117e37ca",
   "metadata": {},
   "source": [
    "### 15.Find word with highest number of repeated letters in string"
   ]
  },
  {
   "cell_type": "code",
   "execution_count": 9,
   "id": "179d50cb",
   "metadata": {},
   "outputs": [
    {
     "name": "stdout",
     "output_type": "stream",
     "text": [
      "google\n",
      "-1\n"
     ]
    }
   ],
   "source": [
    "from collections import Counter\n",
    "\n",
    "def word_with_highest_repeated_letters(string):\n",
    "    words = string.split()\n",
    "    max_repeat_count = 1  # Start from 1 since we need *repeated* letters\n",
    "    result_word = -1\n",
    "\n",
    "    for word in words:\n",
    "        letter_counts = Counter(word)\n",
    "        current_max = max(letter_counts.values())\n",
    "        \n",
    "        if current_max > max_repeat_count:\n",
    "            max_repeat_count = current_max\n",
    "            result_word = word\n",
    "\n",
    "    return result_word\n",
    "\n",
    "# Test cases\n",
    "print(word_with_highest_repeated_letters(\"abcdefghij google microsoft\"))  # Output: google\n",
    "print(word_with_highest_repeated_letters(\"cameron blue\"))                 # Output: -1\n"
   ]
  },
  {
   "cell_type": "markdown",
   "id": "8475d09f",
   "metadata": {},
   "source": [
    "### 16.Count the number of words in a given string"
   ]
  },
  {
   "cell_type": "code",
   "execution_count": 10,
   "id": "d79d592e",
   "metadata": {},
   "outputs": [
    {
     "name": "stdout",
     "output_type": "stream",
     "text": [
      "2\n",
      "5\n",
      "0\n"
     ]
    }
   ],
   "source": [
    "def count_words(string):\n",
    "    # Split the string by whitespace and filter out empty strings\n",
    "    words = string.split()\n",
    "    return len(words)\n",
    "\n",
    "# Example usage\n",
    "print(count_words(\"Hello world!\"))                  # Output: 2\n",
    "print(count_words(\"   This   is a  test string \"))  # Output: 5\n",
    "print(count_words(\"\"))                              # Output: 0\n"
   ]
  },
  {
   "cell_type": "markdown",
   "id": "8a91e330",
   "metadata": {},
   "source": [
    "### 17.Write a program to sort characters in a string"
   ]
  },
  {
   "cell_type": "code",
   "execution_count": 11,
   "id": "9616f70a",
   "metadata": {},
   "outputs": [
    {
     "name": "stdout",
     "output_type": "stream",
     "text": [
      "bcgxz\n",
      "abcde\n",
      "abc\n"
     ]
    }
   ],
   "source": [
    "def sort_characters_only(s):\n",
    "    # Filter out only alphabetic characters\n",
    "    letters = [char for char in s if char.isalpha()]\n",
    "    # Sort them\n",
    "    letters.sort()\n",
    "    # Join and return the sorted string\n",
    "    return ''.join(letters)\n",
    "\n",
    "# Example usage\n",
    "print(sort_characters_only(\"zxcbg\"))     # Output: bcgxz\n",
    "print(sort_characters_only(\"edcba\"))     # Output: abcde\n",
    "print(sort_characters_only(\"a1b@c!\"))    # Output: abc\n"
   ]
  },
  {
   "cell_type": "markdown",
   "id": "f35e4a10",
   "metadata": {},
   "source": [
    "### 18.Find the largest word in a String"
   ]
  },
  {
   "cell_type": "code",
   "execution_count": 12,
   "id": "a1678bf7",
   "metadata": {},
   "outputs": [
    {
     "name": "stdout",
     "output_type": "stream",
     "text": [
      "Google\n",
      "Microsoft\n",
      "\n"
     ]
    }
   ],
   "source": [
    "def largest_word(s):\n",
    "    words = s.split()\n",
    "    if not words:\n",
    "        return \"\"\n",
    "    # Find the word with maximum length\n",
    "    return max(words, key=len)\n",
    "\n",
    "# Example usage\n",
    "print(largest_word(\"Google Doc\"))        # Output: Google\n",
    "print(largest_word(\"Microsoft Teams\"))   # Output: Microsoft\n",
    "print(largest_word(\"\"))                  # Output: (empty string)\n"
   ]
  },
  {
   "cell_type": "markdown",
   "id": "9e360a25",
   "metadata": {},
   "source": [
    "### 19.Change every letter with next lexicographic alphabet"
   ]
  },
  {
   "cell_type": "code",
   "execution_count": 13,
   "id": "eeca0a03",
   "metadata": {},
   "outputs": [
    {
     "name": "stdout",
     "output_type": "stream",
     "text": [
      "bcdeyza\n",
      "Ifmmp Xpsme!\n"
     ]
    }
   ],
   "source": [
    "def shift_letters(s):\n",
    "    result = []\n",
    "    for char in s:\n",
    "        if char.isalpha():\n",
    "            if char == 'z':\n",
    "                result.append('a')\n",
    "            elif char == 'Z':\n",
    "                result.append('A')\n",
    "            else:\n",
    "                result.append(chr(ord(char) + 1))\n",
    "        else:\n",
    "            result.append(char)  # Keep non-alphabetic characters unchanged\n",
    "    return ''.join(result)\n",
    "\n",
    "# Example usage\n",
    "print(shift_letters(\"abcdxyz\"))       # Output: bcdeyza\n",
    "print(shift_letters(\"Hello World!\"))  # Output: Ifmmp Xpsme!\n"
   ]
  },
  {
   "cell_type": "markdown",
   "id": "760cc292",
   "metadata": {},
   "source": [
    "### 20.Remove Characters from first String present in the Second String"
   ]
  },
  {
   "cell_type": "code",
   "execution_count": 14,
   "id": "c97fbf0c",
   "metadata": {},
   "outputs": [
    {
     "name": "stdout",
     "output_type": "stream",
     "text": [
      "abd\n",
      "xyzpw\n"
     ]
    }
   ],
   "source": [
    "def remove_common_characters(str1, str2):\n",
    "    to_remove = set(str2)  # Convert str2 to a set for faster lookup\n",
    "    result = ''.join(char for char in str1 if char not in to_remove)\n",
    "    return result\n",
    "\n",
    "# Example usage\n",
    "print(remove_common_characters(\"abcdef\", \"cefz\"))   # Output: abd\n",
    "print(remove_common_characters(\"xyzpw\", \"lmno\"))    # Output: xyzpw\n"
   ]
  },
  {
   "cell_type": "markdown",
   "id": "8e8115ec",
   "metadata": {},
   "source": [
    "### 21.Print all the duplicates in the string\n"
   ]
  },
  {
   "cell_type": "code",
   "execution_count": 15,
   "id": "aae0fd4a",
   "metadata": {},
   "outputs": [
    {
     "name": "stdout",
     "output_type": "stream",
     "text": [
      "Example 1:\n",
      "s - 2\n",
      "i - 4\n",
      "n - 3\n",
      "t - 2\n",
      "\n",
      "Example 2:\n",
      "< -- No Output -- >\n"
     ]
    }
   ],
   "source": [
    "from collections import Counter\n",
    "\n",
    "def print_duplicates(s):\n",
    "    freq = Counter(s)\n",
    "    found = False\n",
    "    for char, count in freq.items():\n",
    "        if count > 1:\n",
    "            print(f\"{char} - {count}\")\n",
    "            found = True\n",
    "    if not found:\n",
    "        print(\"< -- No Output -- >\")\n",
    "\n",
    "# Example usage\n",
    "print(\"Example 1:\")\n",
    "print_duplicates(\"sinstriiintng\")\n",
    "print(\"\\nExample 2:\")\n",
    "print_duplicates(\"abcdefg\")\n"
   ]
  },
  {
   "cell_type": "markdown",
   "id": "235a9bb7",
   "metadata": {},
   "source": [
    "### 22.Remove All Duplicates from a String"
   ]
  },
  {
   "cell_type": "code",
   "execution_count": 16,
   "id": "1617afc2",
   "metadata": {},
   "outputs": [
    {
     "name": "stdout",
     "output_type": "stream",
     "text": [
      "bca\n",
      "cbad\n"
     ]
    }
   ],
   "source": [
    "def remove_duplicates(s):\n",
    "    seen = set()\n",
    "    result = []\n",
    "    for char in s:\n",
    "        if char not in seen:\n",
    "            seen.add(char)\n",
    "            result.append(char)\n",
    "    return ''.join(result)\n",
    "\n",
    "# Example usage\n",
    "print(remove_duplicates(\"bcabc\"))      # Output: bca\n",
    "print(remove_duplicates(\"cbacdcbc\"))   # Output: cbad\n"
   ]
  },
  {
   "cell_type": "markdown",
   "id": "369704a4",
   "metadata": {},
   "source": [
    "### 23.Maximum occurring character in a string\n",
    "\n"
   ]
  },
  {
   "cell_type": "code",
   "execution_count": 17,
   "id": "3ba83d12",
   "metadata": {},
   "outputs": [
    {
     "name": "stdout",
     "output_type": "stream",
     "text": [
      "a\n",
      "p\n"
     ]
    }
   ],
   "source": [
    "from collections import Counter\n",
    "\n",
    "def max_occurring_char(s):\n",
    "    if not s:\n",
    "        return None  # or you could return '' based on preference\n",
    "    freq = Counter(s)\n",
    "    max_char = max(freq, key=freq.get)  # Gets character with highest frequency\n",
    "    return max_char\n",
    "\n",
    "# Example usage\n",
    "print(max_occurring_char(\"takeuforward\"))  # Output: a or r\n",
    "print(max_occurring_char(\"apple\"))         # Output: p\n"
   ]
  },
  {
   "cell_type": "markdown",
   "id": "fcafed1a",
   "metadata": {},
   "source": [
    "### 24.Check if two strings match where one string contains wildcard characters\n"
   ]
  },
  {
   "cell_type": "code",
   "execution_count": 18,
   "id": "baba13af",
   "metadata": {},
   "outputs": [
    {
     "name": "stdout",
     "output_type": "stream",
     "text": [
      "False\n",
      "False\n",
      "True\n",
      "True\n",
      "False\n"
     ]
    }
   ],
   "source": [
    "def is_match(str1, pattern):\n",
    "    from fnmatch import fnmatch\n",
    "    return fnmatch(str1, pattern)\n",
    "\n",
    "# Example usage\n",
    "print(is_match(\"abcdef\", \"a*e?f\"))     # Output: True\n",
    "print(is_match(\"apple\", \"a*p?\"))       # Output: True\n",
    "print(is_match(\"banana\", \"b?na*a\"))    # Output: True\n",
    "print(is_match(\"orange\", \"o?an*e\"))    # Output: True\n",
    "print(is_match(\"grape\", \"gr*pe?\"))     # Output: False\n"
   ]
  },
  {
   "cell_type": "markdown",
   "id": "fd19ab79",
   "metadata": {},
   "source": [
    "### 25.Count common sub-sequence in two strings\n"
   ]
  },
  {
   "cell_type": "code",
   "execution_count": null,
   "id": "a4d41110",
   "metadata": {},
   "outputs": [],
   "source": [
    "# def count_common_subsequences(str1, str2):\n",
    "#     m, n = len(str1), len(str2)\n",
    "    \n",
    "#     # Create a 2D DP table initialized to 0\n",
    "#     dp = [[0] * (n + 1) for _ in range(m + 1)]\n",
    "    \n",
    "#     # Fill the DP table\n",
    "#     for i in range(1, m + 1):\n",
    "#         for j in range(1, n + 1):\n",
    "#             if str1[i - 1] == str2[j - 1]:\n",
    "#                 dp[i][j] = dp[i - 1][j - 1] + dp[i - 1][j] + dp[i][j - 1] - dp[i - 1][j - 1]\n",
    "#             else:\n",
    "#                 dp[i][j] = dp[i - 1][j] + dp[i][j - 1] - dp[i - 1][j - 1]\n",
    "    \n",
    "#     # Return the number of common subsequences\n",
    "#     return dp[m][n]\n",
    "\n",
    "# # Example usage\n",
    "# print(count_common_subsequences(\"abc\", \"abc\"))  # Output: 7\n",
    "# print(count_common_subsequences(\"abc\", \"def\"))  # Output: 1\n",
    "# print(count_common_subsequences(\"aab\", \"abb\"))  # Output: 6\n"
   ]
  },
  {
   "cell_type": "markdown",
   "id": "6564a141",
   "metadata": {},
   "source": [
    "### 26.Check if two Strings are anagrams of each other"
   ]
  },
  {
   "cell_type": "code",
   "execution_count": 20,
   "id": "8539bb36",
   "metadata": {},
   "outputs": [
    {
     "name": "stdout",
     "output_type": "stream",
     "text": [
      "True\n",
      "False\n"
     ]
    }
   ],
   "source": [
    "def are_anagrams(str1, str2):\n",
    "    # If lengths are not equal, they can't be anagrams\n",
    "    if len(str1) != len(str2):\n",
    "        return False\n",
    "    \n",
    "    # Sort both strings and compare\n",
    "    return sorted(str1) == sorted(str2)\n",
    "\n",
    "# Example usage\n",
    "print(are_anagrams(\"CAT\", \"ACT\"))  # Output: True\n",
    "print(are_anagrams(\"RULES\", \"LESRT\"))  # Output: False\n"
   ]
  },
  {
   "cell_type": "markdown",
   "id": "c9e7e9b7",
   "metadata": {},
   "source": [
    "### 27.Find Non-repeating characters of a String\n",
    "\n"
   ]
  },
  {
   "cell_type": "code",
   "execution_count": 21,
   "id": "6d32af93",
   "metadata": {},
   "outputs": [
    {
     "name": "stdout",
     "output_type": "stream",
     "text": [
      "l,e\n",
      "y,a,h\n"
     ]
    }
   ],
   "source": [
    "from collections import Counter\n",
    "\n",
    "def non_repeating_characters(s):\n",
    "    # Count the frequency of each character\n",
    "    freq = Counter(s)\n",
    "    \n",
    "    # Find and print non-repeating characters\n",
    "    non_repeating = [char for char in s if freq[char] == 1]\n",
    "    \n",
    "    # Print result\n",
    "    print(','.join(non_repeating))\n",
    "\n",
    "# Example usage\n",
    "non_repeating_characters(\"google\")  # Output: l,e\n",
    "non_repeating_characters(\"yahoo\")   # Output: y,a,h\n"
   ]
  },
  {
   "cell_type": "markdown",
   "id": "72c7fea3",
   "metadata": {},
   "source": [
    "### 28.Calculate Frequency of characters in a String\n",
    "\n"
   ]
  },
  {
   "cell_type": "code",
   "execution_count": 22,
   "id": "7c9a936a",
   "metadata": {},
   "outputs": [
    {
     "name": "stdout",
     "output_type": "stream",
     "text": [
      "a2 d1 e1 f1 k1 o1 r2 t1 u1 w1 \n",
      "a1 c1 e1 i1 l1 r1 s1 t1 "
     ]
    }
   ],
   "source": [
    "from collections import Counter\n",
    "\n",
    "def character_frequency(s):\n",
    "    # Count the frequency of each character\n",
    "    freq = Counter(s)\n",
    "    \n",
    "    # Print the characters and their frequencies in sorted order\n",
    "    for char in sorted(freq):\n",
    "        print(f\"{char}{freq[char]}\", end=\" \")\n",
    "\n",
    "# Example usage\n",
    "character_frequency(\"takeuforward\")  # Output: a2 d1 e1 f1 k1 o1 r2 t1 u1 w1 \n",
    "print()  # For a new line\n",
    "character_frequency(\"articles\")  # Output: a1 c1 e1 i1 l1 r1 s1 t1\n"
   ]
  },
  {
   "cell_type": "code",
   "execution_count": null,
   "id": "35db468a",
   "metadata": {},
   "outputs": [],
   "source": []
  }
 ],
 "metadata": {
  "kernelspec": {
   "display_name": "Python 3 (ipykernel)",
   "language": "python",
   "name": "python3"
  },
  "language_info": {
   "codemirror_mode": {
    "name": "ipython",
    "version": 3
   },
   "file_extension": ".py",
   "mimetype": "text/x-python",
   "name": "python",
   "nbconvert_exporter": "python",
   "pygments_lexer": "ipython3",
   "version": "3.10.9"
  }
 },
 "nbformat": 4,
 "nbformat_minor": 5
}
