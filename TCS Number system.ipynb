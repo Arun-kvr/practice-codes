{
 "cells": [
  {
   "cell_type": "markdown",
   "id": "2ff55db7",
   "metadata": {},
   "source": [
    "### 1.Convert Binary to Decimal\n",
    "\n"
   ]
  },
  {
   "cell_type": "code",
   "execution_count": 2,
   "id": "23290dd9",
   "metadata": {},
   "outputs": [
    {
     "name": "stdout",
     "output_type": "stream",
     "text": [
      "11\n",
      "4\n"
     ]
    }
   ],
   "source": [
    "def binary_to_decimal(binary_str):\n",
    "    decimal_number = 0\n",
    "    binary_str = str(binary_str)  # Ensure it's treated as a string\n",
    "    length = len(binary_str)\n",
    "    \n",
    "    for i in range(length):\n",
    "        bit = int(binary_str[length - 1 - i])\n",
    "        decimal_number += bit * (2 ** i)\n",
    "    \n",
    "    return decimal_number\n",
    "\n",
    "# Example usage:\n",
    "N1 = \"1011\"\n",
    "print(binary_to_decimal(N1))  # Output: 11\n",
    "\n",
    "N2 = \"100\"\n",
    "print(binary_to_decimal(N2))  # Output: 4\n"
   ]
  },
  {
   "cell_type": "markdown",
   "id": "12067bcd",
   "metadata": {},
   "source": [
    "### 2.Convert Binary to Octal\n",
    "\n"
   ]
  },
  {
   "cell_type": "code",
   "execution_count": 3,
   "id": "317910cf",
   "metadata": {},
   "outputs": [
    {
     "name": "stdout",
     "output_type": "stream",
     "text": [
      "146\n",
      "37\n"
     ]
    }
   ],
   "source": [
    "def binary_to_octal(binary_str):\n",
    "    # Pad the binary string with leading 0s to make length multiple of 3\n",
    "    while len(binary_str) % 3 != 0:\n",
    "        binary_str = '0' + binary_str\n",
    "\n",
    "    octal_str = ''\n",
    "    for i in range(0, len(binary_str), 3):\n",
    "        three_bits = binary_str[i:i+3]\n",
    "        octal_digit = str(int(three_bits, 2))\n",
    "        octal_str += octal_digit\n",
    "\n",
    "    return octal_str\n",
    "\n",
    "# Example usage\n",
    "print(binary_to_octal(\"1100110\"))  # Output: 146\n",
    "print(binary_to_octal(\"11111\"))    # Output: 37\n"
   ]
  },
  {
   "cell_type": "markdown",
   "id": "18425947",
   "metadata": {},
   "source": [
    "### 3.Convert Decimal to Binary Number\n",
    "\n"
   ]
  },
  {
   "cell_type": "code",
   "execution_count": 4,
   "id": "6f8eac95",
   "metadata": {},
   "outputs": [
    {
     "name": "stdout",
     "output_type": "stream",
     "text": [
      "1111\n",
      "10010\n"
     ]
    }
   ],
   "source": [
    "def decimal_to_binary(n):\n",
    "    if n == 0:\n",
    "        return \"0\"\n",
    "    \n",
    "    binary = \"\"\n",
    "    while n > 0:\n",
    "        remainder = n % 2\n",
    "        binary = str(remainder) + binary\n",
    "        n = n // 2\n",
    "    \n",
    "    return binary\n",
    "\n",
    "# Example usage\n",
    "print(decimal_to_binary(15))  # Output: 1111\n",
    "print(decimal_to_binary(18))  # Output: 10010\n"
   ]
  },
  {
   "cell_type": "markdown",
   "id": "08573ba8",
   "metadata": {},
   "source": [
    "### 4.Convert Decimal to Octal\n",
    "\n"
   ]
  },
  {
   "cell_type": "code",
   "execution_count": 5,
   "id": "afece06a",
   "metadata": {},
   "outputs": [
    {
     "name": "stdout",
     "output_type": "stream",
     "text": [
      "21\n",
      "55\n"
     ]
    }
   ],
   "source": [
    "def decimal_to_octal(n):\n",
    "    if n == 0:\n",
    "        return \"0\"\n",
    "    \n",
    "    octal = \"\"\n",
    "    while n > 0:\n",
    "        remainder = n % 8\n",
    "        octal = str(remainder) + octal\n",
    "        n = n // 8\n",
    "    \n",
    "    return octal\n",
    "\n",
    "# Example usage\n",
    "print(decimal_to_octal(17))  # Output: 21\n",
    "print(decimal_to_octal(45))  # Output: 55\n"
   ]
  },
  {
   "cell_type": "markdown",
   "id": "663074a4",
   "metadata": {},
   "source": [
    "### 5.Convert Octal to Binary\n",
    "\n"
   ]
  },
  {
   "cell_type": "code",
   "execution_count": 6,
   "id": "44633dd0",
   "metadata": {},
   "outputs": [
    {
     "name": "stdout",
     "output_type": "stream",
     "text": [
      "011100101\n",
      "001111000\n"
     ]
    }
   ],
   "source": [
    "def octal_to_binary(octal_str):\n",
    "    binary_str = \"\"\n",
    "    \n",
    "    # Iterate through each octal digit and convert it to binary\n",
    "    for digit in octal_str:\n",
    "        binary_str += format(int(digit), '03b')  # '03b' formats the number as 3-bit binary\n",
    "    \n",
    "    return binary_str\n",
    "\n",
    "# Example usage\n",
    "print(octal_to_binary(\"345\"))  # Output: 011100101\n",
    "print(octal_to_binary(\"170\"))  # Output: 001111000\n"
   ]
  },
  {
   "cell_type": "markdown",
   "id": "5687ffd9",
   "metadata": {},
   "source": [
    "### 6.Convert Octal to Decimal\n",
    "\n",
    "\n"
   ]
  },
  {
   "cell_type": "code",
   "execution_count": 7,
   "id": "114e1674",
   "metadata": {},
   "outputs": [
    {
     "name": "stdout",
     "output_type": "stream",
     "text": [
      "229\n",
      "120\n"
     ]
    }
   ],
   "source": [
    "def octal_to_decimal(octal_str):\n",
    "    decimal = 0\n",
    "    length = len(octal_str)\n",
    "    \n",
    "    # Iterate through each octal digit and calculate its contribution to the decimal number\n",
    "    for i in range(length):\n",
    "        digit = int(octal_str[i])\n",
    "        decimal += digit * (8 ** (length - 1 - i))\n",
    "    \n",
    "    return decimal\n",
    "\n",
    "# Example usage\n",
    "print(octal_to_decimal(\"345\"))  # Output: 229\n",
    "print(octal_to_decimal(\"170\"))  # Output: 121\n"
   ]
  },
  {
   "cell_type": "markdown",
   "id": "44e5895e",
   "metadata": {},
   "source": [
    "### 7.Convert digits/numbers to words\n",
    "\n"
   ]
  },
  {
   "cell_type": "code",
   "execution_count": 8,
   "id": "a9715f57",
   "metadata": {},
   "outputs": [
    {
     "name": "stdout",
     "output_type": "stream",
     "text": [
      "seven thousand eight hundred twenty four\n",
      "three hundred seventy\n"
     ]
    }
   ],
   "source": [
    "def number_to_words(n):\n",
    "    # Mapping of digits to words\n",
    "    ones = [\"\", \"one\", \"two\", \"three\", \"four\", \"five\", \"six\", \"seven\", \"eight\", \"nine\"]\n",
    "    teens = [\"\", \"eleven\", \"twelve\", \"thirteen\", \"fourteen\", \"fifteen\", \"sixteen\", \"seventeen\", \"eighteen\", \"nineteen\"]\n",
    "    tens = [\"\", \"ten\", \"twenty\", \"thirty\", \"forty\", \"fifty\", \"sixty\", \"seventy\", \"eighty\", \"ninety\"]\n",
    "    thousands = [\"\", \"thousand\"]\n",
    "    \n",
    "    # Break the number into thousands, hundreds, tens, and ones\n",
    "    word = \"\"\n",
    "    if n >= 1000:\n",
    "        word += ones[n // 1000] + \" thousand \"\n",
    "        n %= 1000\n",
    "    \n",
    "    if n >= 100:\n",
    "        word += ones[n // 100] + \" hundred \"\n",
    "        n %= 100\n",
    "    \n",
    "    if n >= 20:\n",
    "        word += tens[n // 10] + \" \"\n",
    "        n %= 10\n",
    "    \n",
    "    if n > 0 and n < 10:\n",
    "        word += ones[n] + \" \"\n",
    "    elif n >= 10 and n <= 19:\n",
    "        word += teens[n - 10] + \" \"\n",
    "    \n",
    "    # Return the cleaned-up word string without extra spaces\n",
    "    return word.strip()\n",
    "\n",
    "# Example usage\n",
    "print(number_to_words(7824))  # Output: seven thousand eight hundred twenty four\n",
    "print(number_to_words(370))   # Output: three hundred seventy\n"
   ]
  }
 ],
 "metadata": {
  "kernelspec": {
   "display_name": "Python 3 (ipykernel)",
   "language": "python",
   "name": "python3"
  },
  "language_info": {
   "codemirror_mode": {
    "name": "ipython",
    "version": 3
   },
   "file_extension": ".py",
   "mimetype": "text/x-python",
   "name": "python",
   "nbconvert_exporter": "python",
   "pygments_lexer": "ipython3",
   "version": "3.10.9"
  }
 },
 "nbformat": 4,
 "nbformat_minor": 5
}
