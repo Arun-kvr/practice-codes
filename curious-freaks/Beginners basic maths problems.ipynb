{
 "cells": [
  {
   "cell_type": "code",
   "execution_count": 1,
   "id": "8307f7b1",
   "metadata": {},
   "outputs": [
    {
     "name": "stdout",
     "output_type": "stream",
     "text": [
      "Enter the number :5\n",
      "The given number is odd\n"
     ]
    }
   ],
   "source": [
    "#to find odd even number\n",
    "n=int(input(\"Enter the number :\"))\n",
    "if n%2==0:\n",
    "    print(\"The given number is even\")\n",
    "else:\n",
    "    print(\"The given number is odd\")"
   ]
  },
  {
   "cell_type": "code",
   "execution_count": 2,
   "id": "3ecbbe3a",
   "metadata": {},
   "outputs": [
    {
     "name": "stdout",
     "output_type": "stream",
     "text": [
      "Enter the number :77\n",
      "The last digit of the given number is , 7\n"
     ]
    }
   ],
   "source": [
    "#to print last digit\n",
    "n=int(input(\"Enter the number :\"))\n",
    "p=n%10\n",
    "print(\"The last digit of the given number is ,\",p)"
   ]
  },
  {
   "cell_type": "code",
   "execution_count": 3,
   "id": "ae8e7a6e",
   "metadata": {},
   "outputs": [
    {
     "name": "stdout",
     "output_type": "stream",
     "text": [
      "Enter the number :123456\n",
      "6\n"
     ]
    }
   ],
   "source": [
    "#to print number of digits\n",
    "n=int(input(\"Enter the number :\"))\n",
    "m=0\n",
    "while n!=0:\n",
    "    m+=1\n",
    "    n//=10\n",
    "\n",
    "print(m)"
   ]
  },
  {
   "cell_type": "code",
   "execution_count": 4,
   "id": "bbfdea1b",
   "metadata": {},
   "outputs": [
    {
     "name": "stdout",
     "output_type": "stream",
     "text": [
      "enter the number :234567\n",
      "765432\n"
     ]
    }
   ],
   "source": [
    "#to reverse a number\n",
    "n=int(input(\"enter the number :\"))\n",
    "m=0\n",
    "while n!=0:\n",
    "    p=n%10\n",
    "    m=m*10+p\n",
    "    n//=10\n",
    "print(m)"
   ]
  },
  {
   "cell_type": "code",
   "execution_count": 5,
   "id": "a1504f36",
   "metadata": {},
   "outputs": [
    {
     "name": "stdout",
     "output_type": "stream",
     "text": [
      "Enter the numbers :12 21\n",
      "864354781\n"
     ]
    }
   ],
   "source": [
    "# power of number\n",
    "m,n=map(int,input(\"Enter the numbers :\").split())\n",
    "mod=10**9 + 7\n",
    "if 1<=m<=10**9:\n",
    "    p=(m**n)\n",
    "    q=p%mod\n",
    "    print(q)"
   ]
  },
  {
   "cell_type": "code",
   "execution_count": 6,
   "id": "72dd103a",
   "metadata": {},
   "outputs": [
    {
     "name": "stdout",
     "output_type": "stream",
     "text": [
      "60 48\n",
      "gcd of the given numbers is : 12\n"
     ]
    }
   ],
   "source": [
    "# gcd of two num method 1:\n",
    "import math\n",
    "a,b=map(int,input().split())\n",
    "print(\"gcd of the given numbers is :\",end=\" \")\n",
    "print(math.gcd(a,b))"
   ]
  },
  {
   "cell_type": "code",
   "execution_count": 7,
   "id": "69f59e98",
   "metadata": {},
   "outputs": [
    {
     "name": "stdout",
     "output_type": "stream",
     "text": [
      "60 48\n"
     ]
    },
    {
     "data": {
      "text/plain": [
       "12"
      ]
     },
     "execution_count": 7,
     "metadata": {},
     "output_type": "execute_result"
    }
   ],
   "source": [
    "# gcd of two num method 2 using recursion :\n",
    "def hcf(a,b):\n",
    "    if b==0:\n",
    "        return(a)\n",
    "    else:\n",
    "        return(hcf(b,a%b))\n",
    "a,b=map(int,input().split())\n",
    "hcf(a,b)"
   ]
  },
  {
   "cell_type": "code",
   "execution_count": 8,
   "id": "4b14f0ca",
   "metadata": {},
   "outputs": [
    {
     "name": "stdout",
     "output_type": "stream",
     "text": [
      "enter number :6\n",
      "[1, 2, 3, 6]\n"
     ]
    }
   ],
   "source": [
    "# to print all divisors of a number :\n",
    "arr=[]\n",
    "def divisor(n):\n",
    "    for i in range(1,n+1):\n",
    "        if n%i==0:\n",
    "            arr.append(i)\n",
    "    return arr\n",
    "n=int(input(\"enter number :\"))\n",
    "print(divisor(n))"
   ]
  },
  {
   "cell_type": "code",
   "execution_count": 9,
   "id": "4dfb01d0",
   "metadata": {},
   "outputs": [
    {
     "name": "stdout",
     "output_type": "stream",
     "text": [
      "True\n"
     ]
    }
   ],
   "source": [
    "# to print prime number\n",
    "def prime(n):\n",
    "    for i in range(2,n):\n",
    "        if n%i==0:\n",
    "            return False\n",
    "        else:\n",
    "            return True\n",
    "print(prime(5))"
   ]
  },
  {
   "cell_type": "code",
   "execution_count": 10,
   "id": "20e16610",
   "metadata": {},
   "outputs": [
    {
     "name": "stdout",
     "output_type": "stream",
     "text": [
      "enter the number :407\n",
      "the given number is armstrong number\n"
     ]
    }
   ],
   "source": [
    "#armstrong number :\n",
    "def armstrongno(n):\n",
    "    num=n\n",
    "    m=len(str(n))\n",
    "    sum_=0\n",
    "    while num>0:\n",
    "        digit=num%10\n",
    "        sum_+=(digit**m)\n",
    "        num//=10\n",
    "    if sum_==n:\n",
    "        return \"the given number is armstrong number\"\n",
    "    else:\n",
    "        return \"the given number is not an armstrong number\"\n",
    "n=int(input(\"enter the number :\"))\n",
    "print(armstrongno(n))"
   ]
  },
  {
   "cell_type": "code",
   "execution_count": 11,
   "id": "75f0ff8e",
   "metadata": {},
   "outputs": [
    {
     "name": "stdout",
     "output_type": "stream",
     "text": [
      "enter n :1221\n",
      "pallindrome\n"
     ]
    }
   ],
   "source": [
    "# pallindrome number :\n",
    "n=int(input(\"enter n :\"))\n",
    "temp=n\n",
    "summ=0\n",
    "while temp!=0:\n",
    "    digit=temp%10\n",
    "    summ=summ*10+digit\n",
    "    temp//=10\n",
    "if n==summ:\n",
    "    print(\"pallindrome\")"
   ]
  },
  {
   "cell_type": "code",
   "execution_count": 12,
   "id": "544fe5f5",
   "metadata": {},
   "outputs": [
    {
     "name": "stdout",
     "output_type": "stream",
     "text": [
      "enter x :25\n",
      "5.0\n"
     ]
    }
   ],
   "source": [
    "# sqroot method 1 :\n",
    "import math\n",
    "x=int(input(\"enter x :\"))\n",
    "print(math.sqrt(x))"
   ]
  },
  {
   "cell_type": "code",
   "execution_count": 13,
   "id": "7755a71f",
   "metadata": {},
   "outputs": [
    {
     "name": "stdout",
     "output_type": "stream",
     "text": [
      "enter n :49\n",
      "sqrt is : 7\n"
     ]
    }
   ],
   "source": [
    "# square root method 2:\n",
    "n=int(input(\"enter n :\"))\n",
    "\n",
    "for i in range(0,n):\n",
    "    if i*i==n:\n",
    "        print(\"sqrt is :\",i)\n",
    "        break\n",
    "else:\n",
    "    print(\"not a perfect square\")"
   ]
  },
  {
   "cell_type": "code",
   "execution_count": 14,
   "id": "7d625145",
   "metadata": {},
   "outputs": [
    {
     "name": "stdout",
     "output_type": "stream",
     "text": [
      "enter the number :6\n",
      "the given number is a perfect number\n"
     ]
    }
   ],
   "source": [
    "def perfectno(n):\n",
    "    summ=0\n",
    "    for i in range(1,n):\n",
    "        if n%i==0:\n",
    "            summ=summ+i\n",
    "    if summ==n:\n",
    "        print(\"the given number is a perfect number\")\n",
    "    else:\n",
    "        print(\"the given number is not a perfect number\")\n",
    "n=int(input(\"enter the number :\"))\n",
    "perfectno(n)"
   ]
  }
 ],
 "metadata": {
  "kernelspec": {
   "display_name": "Python 3 (ipykernel)",
   "language": "python",
   "name": "python3"
  },
  "language_info": {
   "codemirror_mode": {
    "name": "ipython",
    "version": 3
   },
   "file_extension": ".py",
   "mimetype": "text/x-python",
   "name": "python",
   "nbconvert_exporter": "python",
   "pygments_lexer": "ipython3",
   "version": "3.12.3"
  }
 },
 "nbformat": 4,
 "nbformat_minor": 5
}
