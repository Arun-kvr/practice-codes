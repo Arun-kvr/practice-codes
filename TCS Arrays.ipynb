{
 "cells": [
  {
   "cell_type": "markdown",
   "id": "5ed25872",
   "metadata": {},
   "source": [
    "### 1.Find the smallest element in an array\n",
    "\n"
   ]
  },
  {
   "cell_type": "code",
   "execution_count": 1,
   "id": "fd60abca",
   "metadata": {},
   "outputs": [
    {
     "name": "stdout",
     "output_type": "stream",
     "text": [
      "Enter the elements of the array separated by spaces: 3 2 1 4 4 9\n",
      "Smallest element in the array: 1\n"
     ]
    }
   ],
   "source": [
    "def find_smallest_element(arr):\n",
    "    if not arr:\n",
    "        return None  # Handle empty array case\n",
    "    smallest = arr[0]\n",
    "    for num in arr:\n",
    "        if num < smallest:\n",
    "            smallest = num\n",
    "    return smallest\n",
    "\n",
    "# Taking input from user\n",
    "user_input = input(\"Enter the elements of the array separated by spaces: \")\n",
    "arr = list(map(int, user_input.split()))\n",
    "\n",
    "# Finding and printing the smallest element\n",
    "smallest = find_smallest_element(arr)\n",
    "print(\"Smallest element in the array:\", smallest)\n"
   ]
  },
  {
   "cell_type": "markdown",
   "id": "20daebef",
   "metadata": {},
   "source": [
    "### 2.Find the Largest element in an array\n",
    "\n"
   ]
  },
  {
   "cell_type": "code",
   "execution_count": 2,
   "id": "5ee155de",
   "metadata": {},
   "outputs": [
    {
     "name": "stdout",
     "output_type": "stream",
     "text": [
      "Enter the elements of the array separated by spaces: 7 6 8 9 7 11\n",
      "Largest element in the array: 11\n"
     ]
    }
   ],
   "source": [
    "def find_largest_element(arr):\n",
    "    if not arr:\n",
    "        return None  # Handle empty array case\n",
    "    largest = arr[0]\n",
    "    for num in arr:\n",
    "        if num > largest:\n",
    "            largest = num\n",
    "    return largest\n",
    "\n",
    "# Taking input from user\n",
    "user_input = input(\"Enter the elements of the array separated by spaces: \")\n",
    "arr = list(map(int, user_input.split()))\n",
    "\n",
    "# Finding and printing the largest element\n",
    "largest = find_largest_element(arr)\n",
    "print(\"Largest element in the array:\", largest)\n"
   ]
  },
  {
   "cell_type": "markdown",
   "id": "7fca380f",
   "metadata": {},
   "source": [
    "### 3.Find Second Smallest and Second Largest Element in an array\n",
    "\n"
   ]
  },
  {
   "cell_type": "code",
   "execution_count": 3,
   "id": "6bb9287d",
   "metadata": {},
   "outputs": [
    {
     "name": "stdout",
     "output_type": "stream",
     "text": [
      "Enter the elements of the array separated by spaces: 7 8 8 9 6 4  3\n",
      "Second Smallest: 4\n",
      "Second Largest: 8\n"
     ]
    }
   ],
   "source": [
    "def find_second_smallest_and_largest(arr):\n",
    "    unique_elements = list(set(arr))  # Remove duplicates\n",
    "    if len(unique_elements) < 2:\n",
    "        return -1, -1  # Not enough unique elements\n",
    "\n",
    "    unique_elements.sort()\n",
    "    second_smallest = unique_elements[1]\n",
    "    second_largest = unique_elements[-2]\n",
    "\n",
    "    return second_smallest, second_largest\n",
    "\n",
    "# Taking input from user\n",
    "user_input = input(\"Enter the elements of the array separated by spaces: \")\n",
    "arr = list(map(int, user_input.split()))\n",
    "\n",
    "# Finding second smallest and second largest\n",
    "second_smallest, second_largest = find_second_smallest_and_largest(arr)\n",
    "\n",
    "print(\"Second Smallest:\", second_smallest)\n",
    "print(\"Second Largest:\", second_largest)\n"
   ]
  },
  {
   "cell_type": "markdown",
   "id": "6fbaf847",
   "metadata": {},
   "source": [
    "### 4.Reverse a given Array\n",
    "\n"
   ]
  },
  {
   "cell_type": "code",
   "execution_count": 4,
   "id": "34342d8b",
   "metadata": {},
   "outputs": [
    {
     "name": "stdout",
     "output_type": "stream",
     "text": [
      "Enter the elements of the array separated by spaces: 1 2 3 4 5\n",
      "Reversed array: [5, 4, 3, 2, 1]\n"
     ]
    }
   ],
   "source": [
    "def reverse_array(arr):\n",
    "    return arr[::-1]\n",
    "\n",
    "# Taking input from user\n",
    "user_input = input(\"Enter the elements of the array separated by spaces: \")\n",
    "arr = list(map(int, user_input.split()))\n",
    "\n",
    "# Reversing and printing the array\n",
    "reversed_arr = reverse_array(arr)\n",
    "print(\"Reversed array:\", reversed_arr)\n"
   ]
  },
  {
   "cell_type": "markdown",
   "id": "9dc9c1fe",
   "metadata": {},
   "source": [
    "### 5.Count frequency of each element in the array\n",
    "\n"
   ]
  },
  {
   "cell_type": "code",
   "execution_count": 5,
   "id": "e811fab7",
   "metadata": {},
   "outputs": [
    {
     "name": "stdout",
     "output_type": "stream",
     "text": [
      "Enter the elements of the array separated by spaces: 1 1 2 3 3 4 4 2 2 2 9\n",
      "1 2\n",
      "2 4\n",
      "3 2\n",
      "4 2\n",
      "9 1\n"
     ]
    }
   ],
   "source": [
    "def count_occurrences(arr):\n",
    "    freq = {}\n",
    "    for num in arr:\n",
    "        freq[num] = freq.get(num, 0) + 1\n",
    "    return freq\n",
    "\n",
    "# Taking input from user\n",
    "user_input = input(\"Enter the elements of the array separated by spaces: \")\n",
    "arr = list(map(int, user_input.split()))\n",
    "\n",
    "# Counting occurrences\n",
    "occurrences = count_occurrences(arr)\n",
    "\n",
    "# Printing result\n",
    "for key, value in occurrences.items():\n",
    "    print(key, value)"
   ]
  },
  {
   "cell_type": "markdown",
   "id": "8f0d67d5",
   "metadata": {},
   "source": [
    "### 6.Rearrange array in increasing-decreasing order\n",
    "\n"
   ]
  },
  {
   "cell_type": "code",
   "execution_count": 6,
   "id": "e1d91617",
   "metadata": {},
   "outputs": [
    {
     "name": "stdout",
     "output_type": "stream",
     "text": [
      "Enter the elements of the array separated by spaces: 3 4 5 2 9 0 8 1\n",
      "Rearranged array: [0, 1, 2, 3, 9, 8, 5, 4]\n"
     ]
    }
   ],
   "source": [
    "def rearrange_array(arr):\n",
    "    arr.sort()  # Sort the entire array first\n",
    "    n = len(arr)\n",
    "    mid = n // 2\n",
    "    first_half = arr[:mid]\n",
    "    second_half = arr[mid:]\n",
    "    second_half.reverse()  # Make the second half descending\n",
    "    return first_half + second_half\n",
    "\n",
    "# Taking input from user\n",
    "user_input = input(\"Enter the elements of the array separated by spaces: \")\n",
    "arr = list(map(int, user_input.split()))\n",
    "\n",
    "# Rearranging and printing the result\n",
    "result = rearrange_array(arr)\n",
    "print(\"Rearranged array:\", result)\n"
   ]
  },
  {
   "cell_type": "markdown",
   "id": "dc264f4d",
   "metadata": {},
   "source": [
    "### 7.Calculate Sum of the Elements of the Array\n",
    "\n"
   ]
  },
  {
   "cell_type": "code",
   "execution_count": 7,
   "id": "c9c9a271",
   "metadata": {},
   "outputs": [
    {
     "name": "stdout",
     "output_type": "stream",
     "text": [
      "Enter the elements of the array separated by spaces: 1 2 3 4\n",
      "Sum of all elements: 10\n"
     ]
    }
   ],
   "source": [
    "def find_sum(arr):\n",
    "    return sum(arr)\n",
    "\n",
    "# Taking input from user\n",
    "user_input = input(\"Enter the elements of the array separated by spaces: \")\n",
    "arr = list(map(int, user_input.split()))\n",
    "\n",
    "# Calculating and printing the sum\n",
    "total = find_sum(arr)\n",
    "print(\"Sum of all elements:\", total)\n"
   ]
  },
  {
   "cell_type": "markdown",
   "id": "0802aa59",
   "metadata": {},
   "source": [
    "### 8.Rotate array by K elements : Block Swap Algorithm"
   ]
  },
  {
   "cell_type": "code",
   "execution_count": 8,
   "id": "83f85164",
   "metadata": {},
   "outputs": [
    {
     "name": "stdout",
     "output_type": "stream",
     "text": [
      "Enter the elements of the array separated by spaces: 1 2 3 4 5 6 6 7 8 9\n",
      "Enter the value of K (number of right rotations): 3\n",
      "Rotated array: [7, 8, 9, 1, 2, 3, 4, 5, 6, 6]\n"
     ]
    }
   ],
   "source": [
    "def swap(arr, start1, start2, count):\n",
    "    for i in range(count):\n",
    "        arr[start1 + i], arr[start2 + i] = arr[start2 + i], arr[start1 + i]\n",
    "\n",
    "def block_swap_rotate(arr, k):\n",
    "    n = len(arr)\n",
    "    k = k % n  # Handle if k > n\n",
    "    k = n - k  # Convert right rotation to left rotation\n",
    "    if k == 0 or k == n:\n",
    "        return arr\n",
    "\n",
    "    def rotate_rec(start, d, n):\n",
    "        if d == 0 or d == n:\n",
    "            return\n",
    "\n",
    "        if d == n - d:\n",
    "            swap(arr, start, start + n - d, d)\n",
    "            return\n",
    "        elif d < n - d:\n",
    "            swap(arr, start, start + n - d, d)\n",
    "            rotate_rec(start, d, n - d)\n",
    "        else:\n",
    "            swap(arr, start, start + d, n - d)\n",
    "            rotate_rec(start + n - d, 2 * d - n, d)\n",
    "\n",
    "    rotate_rec(0, k, n)\n",
    "    return arr\n",
    "\n",
    "# Taking input from user\n",
    "user_input = input(\"Enter the elements of the array separated by spaces: \")\n",
    "k = int(input(\"Enter the value of K (number of right rotations): \"))\n",
    "arr = list(map(int, user_input.split()))\n",
    "\n",
    "# Rotating and printing the result\n",
    "rotated_arr = block_swap_rotate(arr, k)\n",
    "print(\"Rotated array:\", rotated_arr)\n"
   ]
  },
  {
   "cell_type": "markdown",
   "id": "e5650352",
   "metadata": {},
   "source": [
    "### 9.Average of all the elements in the array\n",
    "\n"
   ]
  },
  {
   "cell_type": "code",
   "execution_count": 10,
   "id": "43aa1ce0",
   "metadata": {},
   "outputs": [
    {
     "name": "stdout",
     "output_type": "stream",
     "text": [
      "Enter the elements of the array separated by spaces: 1 2 3 4 5 6 7\n",
      "Average of the array elements: 4.0\n"
     ]
    }
   ],
   "source": [
    "def find_average(arr):\n",
    "    if not arr:\n",
    "        return 0  # Avoid division by zero\n",
    "    return sum(arr) / len(arr)\n",
    "\n",
    "# Taking input from user\n",
    "user_input = input(\"Enter the elements of the array separated by spaces: \")\n",
    "arr = list(map(int, user_input.split()))\n",
    "\n",
    "# Calculating and printing the average\n",
    "average = find_average(arr)\n",
    "print(\"Average of the array elements:\", average)\n"
   ]
  },
  {
   "cell_type": "markdown",
   "id": "2f45e876",
   "metadata": {},
   "source": [
    "### 10.Find Median of the given Array\n",
    "\n"
   ]
  },
  {
   "cell_type": "code",
   "execution_count": 11,
   "id": "7c63ca7f",
   "metadata": {},
   "outputs": [
    {
     "name": "stdout",
     "output_type": "stream",
     "text": [
      "Enter the elements of the array separated by spaces: 1 2 3 4 5\n",
      "Median of the array: 3\n"
     ]
    }
   ],
   "source": [
    "def find_median(arr):\n",
    "    arr.sort()  # Sort the array\n",
    "    \n",
    "    n = len(arr)\n",
    "    \n",
    "    if n % 2 == 1:  # Odd length, return the middle element\n",
    "        return arr[n // 2]\n",
    "    else:  # Even length, return the average of the two middle elements\n",
    "        mid1, mid2 = arr[n // 2 - 1], arr[n // 2]\n",
    "        return (mid1 + mid2) / 2\n",
    "\n",
    "# Taking input from user\n",
    "user_input = input(\"Enter the elements of the array separated by spaces: \")\n",
    "arr = list(map(int, user_input.split()))\n",
    "\n",
    "# Finding and printing the median\n",
    "median = find_median(arr)\n",
    "print(\"Median of the array:\", median)\n"
   ]
  },
  {
   "cell_type": "markdown",
   "id": "db86e2e0",
   "metadata": {},
   "source": [
    "### 11.Remove Duplicates in-place from Sorted Array\n",
    "\n"
   ]
  },
  {
   "cell_type": "code",
   "execution_count": 12,
   "id": "ecdf27dc",
   "metadata": {},
   "outputs": [
    {
     "name": "stdout",
     "output_type": "stream",
     "text": [
      "Enter the elements of the array separated by spaces: 1 2 3 3 4 4 5 5\n",
      "Array after removing duplicates: [1, 2, 3, 4, 5, '_', '_', '_']\n",
      "Number of unique elements: 5\n"
     ]
    }
   ],
   "source": [
    "def remove_duplicates(arr):\n",
    "    if not arr:\n",
    "        return 0\n",
    "    \n",
    "    # Pointer j keeps track of the position to store unique elements\n",
    "    j = 1\n",
    "    \n",
    "    for i in range(1, len(arr)):\n",
    "        if arr[i] != arr[i - 1]:\n",
    "            arr[j] = arr[i]\n",
    "            j += 1\n",
    "    \n",
    "    # j will be the number of unique elements\n",
    "    return j\n",
    "\n",
    "# Taking input from the user\n",
    "user_input = input(\"Enter the elements of the array separated by spaces: \")\n",
    "arr = list(map(int, user_input.split()))\n",
    "\n",
    "# Removing duplicates and getting the count of unique elements\n",
    "k = remove_duplicates(arr)\n",
    "\n",
    "# Printing the result\n",
    "print(\"Array after removing duplicates:\", arr[:k] + ['_'] * (len(arr) - k))\n",
    "print(\"Number of unique elements:\", k)\n"
   ]
  },
  {
   "cell_type": "markdown",
   "id": "7b6b706f",
   "metadata": {},
   "source": [
    "### 12.Remove Duplicates From an Unsorted Array\n",
    "\n"
   ]
  },
  {
   "cell_type": "code",
   "execution_count": 13,
   "id": "20564ab7",
   "metadata": {},
   "outputs": [
    {
     "name": "stdout",
     "output_type": "stream",
     "text": [
      "Enter the elements of the array separated by spaces: 1 2 23 3 4 2 2 4 4\n",
      "Array after removing duplicates: [1, 2, 23, 3, 4]\n"
     ]
    }
   ],
   "source": [
    "def remove_duplicates(arr):\n",
    "    seen = set()\n",
    "    result = []\n",
    "    \n",
    "    for num in arr:\n",
    "        if num not in seen:\n",
    "            seen.add(num)\n",
    "            result.append(num)\n",
    "    \n",
    "    return result\n",
    "\n",
    "# Taking input from the user\n",
    "user_input = input(\"Enter the elements of the array separated by spaces: \")\n",
    "arr = list(map(int, user_input.split()))\n",
    "\n",
    "# Removing duplicates\n",
    "unique_elements = remove_duplicates(arr)\n",
    "\n",
    "# Printing the result\n",
    "print(\"Array after removing duplicates:\", unique_elements)\n"
   ]
  },
  {
   "cell_type": "markdown",
   "id": "c86a44aa",
   "metadata": {},
   "source": [
    "### 13.Adding Element in an Array\n",
    "\n"
   ]
  },
  {
   "cell_type": "code",
   "execution_count": 14,
   "id": "bb5442d4",
   "metadata": {},
   "outputs": [
    {
     "name": "stdout",
     "output_type": "stream",
     "text": [
      "Enter the elements of the array separated by spaces: 1 2 3 4 5 6 7 8 9 0\n",
      "Array after insertions: [6, 1, 2, 3, 8, 4, 5, 6, 7, 8, 9, 0, 7]\n"
     ]
    }
   ],
   "source": [
    "def insertbeginning(arr, value):\n",
    "    arr.insert(0, value)  # Insert at the beginning\n",
    "\n",
    "def insertending(arr, value):\n",
    "    arr.append(value)  # Insert at the end\n",
    "\n",
    "def insertatpos(arr, value, pos):\n",
    "    arr.insert(pos, value)  # Insert at specific position\n",
    "\n",
    "# Taking input from the user\n",
    "user_input = input(\"Enter the elements of the array separated by spaces: \")\n",
    "arr = list(map(int, user_input.split()))\n",
    "\n",
    "# Inserting elements as per the example\n",
    "insertbeginning(arr, 6)  # Insert 6 at the beginning\n",
    "insertending(arr, 7)  # Insert 7 at the end\n",
    "insertatpos(arr, 8, 4)  # Insert 8 at position 4\n",
    "\n",
    "# Printing the result\n",
    "print(\"Array after insertions:\", arr)\n"
   ]
  },
  {
   "cell_type": "markdown",
   "id": "6b7b05cd",
   "metadata": {},
   "source": [
    "### 14.Find all repeating elements in an array\n",
    "\n"
   ]
  },
  {
   "cell_type": "code",
   "execution_count": 15,
   "id": "ec640742",
   "metadata": {},
   "outputs": [
    {
     "name": "stdout",
     "output_type": "stream",
     "text": [
      "Enter the elements of the array separated by spaces: 1 2 3 4 4 5 6 5\n",
      "Repeating elements: [4, 5]\n"
     ]
    }
   ],
   "source": [
    "def find_repeating_elements(arr):\n",
    "    freq = {}\n",
    "    repeating_elements = []\n",
    "    \n",
    "    for num in arr:\n",
    "        if num in freq:\n",
    "            freq[num] += 1\n",
    "        else:\n",
    "            freq[num] = 1\n",
    "            \n",
    "    # Collecting elements that appear more than once\n",
    "    for num, count in freq.items():\n",
    "        if count > 1:\n",
    "            repeating_elements.append(num)\n",
    "    \n",
    "    return repeating_elements\n",
    "\n",
    "# Taking input from the user\n",
    "user_input = input(\"Enter the elements of the array separated by spaces: \")\n",
    "arr = list(map(int, user_input.split()))\n",
    "\n",
    "# Finding the repeating elements\n",
    "repeating = find_repeating_elements(arr)\n",
    "\n",
    "# Printing the result\n",
    "print(\"Repeating elements:\", repeating)\n"
   ]
  },
  {
   "cell_type": "markdown",
   "id": "db4e2b02",
   "metadata": {},
   "source": [
    "### 15.Find all the non-repeating elements in an array\n",
    "\n"
   ]
  },
  {
   "cell_type": "code",
   "execution_count": 16,
   "id": "7aa09f6b",
   "metadata": {},
   "outputs": [
    {
     "name": "stdout",
     "output_type": "stream",
     "text": [
      "Enter the elements of the array separated by spaces: 1 2 3 4 5 5 4 3\n",
      "Non-repeating elements: [1, 2]\n"
     ]
    }
   ],
   "source": [
    "def find_non_repeating_elements(arr):\n",
    "    freq = {}\n",
    "    non_repeating_elements = []\n",
    "    \n",
    "    # Count frequency of each element\n",
    "    for num in arr:\n",
    "        if num in freq:\n",
    "            freq[num] += 1\n",
    "        else:\n",
    "            freq[num] = 1\n",
    "    \n",
    "    # Collect elements that appear exactly once\n",
    "    for num, count in freq.items():\n",
    "        if count == 1:\n",
    "            non_repeating_elements.append(num)\n",
    "    \n",
    "    return non_repeating_elements\n",
    "\n",
    "# Taking input from the user\n",
    "user_input = input(\"Enter the elements of the array separated by spaces: \")\n",
    "arr = list(map(int, user_input.split()))\n",
    "\n",
    "# Finding the non-repeating elements\n",
    "non_repeating = find_non_repeating_elements(arr)\n",
    "\n",
    "# Printing the result\n",
    "print(\"Non-repeating elements:\", non_repeating)\n"
   ]
  },
  {
   "cell_type": "markdown",
   "id": "da984f97",
   "metadata": {},
   "source": [
    "### 16.Find all Symmetric Pairs in the array of pairs\n"
   ]
  },
  {
   "cell_type": "code",
   "execution_count": 19,
   "id": "a3e89c4f",
   "metadata": {},
   "outputs": [
    {
     "name": "stdout",
     "output_type": "stream",
     "text": [
      "Enter pairs in the format (a,b) separated by spaces: 1,2 2,1 3,4 4,5 5,4\n",
      "Symmetric pairs: [(2, 1), (5, 4)]\n"
     ]
    }
   ],
   "source": [
    "def find_symmetric_pairs(arr):\n",
    "    seen = set()  # To store pairs we've seen so far\n",
    "    symmetric_pairs = []\n",
    "    \n",
    "    for pair in arr:\n",
    "        a, b = pair\n",
    "        # Check if the pair (b, a) exists in the set (we want to see (b, a) first)\n",
    "        if (b, a) in seen:\n",
    "            symmetric_pairs.append((a, b))  # Add the original pair (a, b)\n",
    "        else:\n",
    "            seen.add((a, b))  # Add (a, b) to the set to track it\n",
    "    \n",
    "    return symmetric_pairs\n",
    "\n",
    "# Taking input from the user\n",
    "user_input = input(\"Enter pairs in the format (a,b) separated by spaces: \")\n",
    "pairs = [tuple(map(int, pair.split(','))) for pair in user_input.split()]\n",
    "\n",
    "# Finding the symmetric pairs\n",
    "symmetric = find_symmetric_pairs(pairs)\n",
    "\n",
    "# Printing the result\n",
    "print(\"Symmetric pairs:\", symmetric)\n"
   ]
  },
  {
   "cell_type": "markdown",
   "id": "e438bc0a",
   "metadata": {},
   "source": [
    "### 17.Maximum Product Subarray in an Array\n",
    "\n"
   ]
  },
  {
   "cell_type": "code",
   "execution_count": 20,
   "id": "becaafa0",
   "metadata": {},
   "outputs": [
    {
     "name": "stdout",
     "output_type": "stream",
     "text": [
      "Maximum product of subarray (Example 1): 120\n",
      "Maximum product of subarray (Example 2): 20\n"
     ]
    }
   ],
   "source": [
    "def max_product_subarray(nums):\n",
    "    if not nums:\n",
    "        return 0\n",
    "\n",
    "    max_product = min_product = result = nums[0]\n",
    "    \n",
    "    for i in range(1, len(nums)):\n",
    "        # If current element is negative, swap max_product and min_product\n",
    "        if nums[i] < 0:\n",
    "            max_product, min_product = min_product, max_product\n",
    "        \n",
    "        # Update the max_product and min_product\n",
    "        max_product = max(nums[i], max_product * nums[i])\n",
    "        min_product = min(nums[i], min_product * nums[i])\n",
    "        \n",
    "        # Update the result with the maximum product found so far\n",
    "        result = max(result, max_product)\n",
    "    \n",
    "    return result\n",
    "\n",
    "# Example usage:\n",
    "nums1 = [1, 2, 3, 4, 5, 0]\n",
    "nums2 = [1, 2, -3, 0, -4, -5]\n",
    "\n",
    "print(\"Maximum product of subarray (Example 1):\", max_product_subarray(nums1))\n",
    "print(\"Maximum product of subarray (Example 2):\", max_product_subarray(nums2))\n"
   ]
  },
  {
   "cell_type": "markdown",
   "id": "2581aa10",
   "metadata": {},
   "source": [
    "### 18.Replace elements by its rank in the array\n",
    "\n"
   ]
  },
  {
   "cell_type": "code",
   "execution_count": 21,
   "id": "ba8e715a",
   "metadata": {},
   "outputs": [
    {
     "name": "stdout",
     "output_type": "stream",
     "text": [
      "Ranks for Example 1: [4, 3, 5, 1, 6, 2]\n",
      "Ranks for Example 2: [1, 2, 3, 5, 3, 6, 4]\n"
     ]
    }
   ],
   "source": [
    "def replace_by_rank(arr):\n",
    "    # Step 1: Create a sorted version of the array and assign ranks to unique elements\n",
    "    sorted_arr = sorted(set(arr))  # Use set to remove duplicates\n",
    "    rank_dict = {value: rank + 1 for rank, value in enumerate(sorted_arr)}\n",
    "    \n",
    "    # Step 2: Replace each element in the original array by its rank\n",
    "    result = [rank_dict[element] for element in arr]\n",
    "    \n",
    "    return result\n",
    "\n",
    "# Example usage:\n",
    "arr1 = [20, 15, 26, 2, 98, 6]\n",
    "arr2 = [1, 5, 8, 15, 8, 25, 9]\n",
    "\n",
    "print(\"Ranks for Example 1:\", replace_by_rank(arr1))\n",
    "print(\"Ranks for Example 2:\", replace_by_rank(arr2))\n"
   ]
  },
  {
   "cell_type": "markdown",
   "id": "22833aad",
   "metadata": {},
   "source": [
    "### 19.Sort Elements of an Array by Frequency\n",
    "\n"
   ]
  },
  {
   "cell_type": "code",
   "execution_count": 22,
   "id": "b1e09f7a",
   "metadata": {},
   "outputs": [
    {
     "name": "stdout",
     "output_type": "stream",
     "text": [
      "Sorted by frequency (Example 1): [2, 2, 2, 1, 1, 3, 3, 4]\n",
      "Sorted by frequency (Example 2): [-199, -199, 3, 5, 6, 7]\n"
     ]
    }
   ],
   "source": [
    "from collections import Counter\n",
    "\n",
    "def sort_by_frequency(arr):\n",
    "    # Step 1: Count the frequency of each element in the array\n",
    "    freq_map = Counter(arr)\n",
    "    \n",
    "    # Step 2: Sort the elements based on frequency (descending) and value (ascending)\n",
    "    sorted_elements = sorted(freq_map.items(), key=lambda x: (-x[1], x[0]))\n",
    "    \n",
    "    # Step 3: Rebuild the array by repeating elements according to their frequency\n",
    "    result = []\n",
    "    for element, freq in sorted_elements:\n",
    "        result.extend([element] * freq)  # Repeat element based on its frequency\n",
    "    \n",
    "    return result\n",
    "\n",
    "# Example usage:\n",
    "arr1 = [1, 2, 3, 2, 4, 3, 1, 2]\n",
    "arr2 = [-199, 6, 7, -199, 3, 5]\n",
    "\n",
    "print(\"Sorted by frequency (Example 1):\", sort_by_frequency(arr1))\n",
    "print(\"Sorted by frequency (Example 2):\", sort_by_frequency(arr2))\n"
   ]
  },
  {
   "cell_type": "markdown",
   "id": "1459782f",
   "metadata": {},
   "source": [
    "### 20.Rotate array by K elements\n",
    "\n"
   ]
  },
  {
   "cell_type": "code",
   "execution_count": 23,
   "id": "9667e91a",
   "metadata": {},
   "outputs": [
    {
     "name": "stdout",
     "output_type": "stream",
     "text": [
      "Right Rotation: [6, 7, 1, 2, 3, 4, 5]\n",
      "Left Rotation: [9, 10, 11, 3, 7, 8]\n"
     ]
    }
   ],
   "source": [
    "def rotate_array(arr, k, direction):\n",
    "    N = len(arr)\n",
    "    \n",
    "    # Normalize k to ensure it's within bounds\n",
    "    k = k % N\n",
    "    \n",
    "    # Right Rotation\n",
    "    if direction == 'right':\n",
    "        # Reverse the entire array\n",
    "        arr.reverse()\n",
    "        # Reverse the first k elements\n",
    "        arr[:k] = reversed(arr[:k])\n",
    "        # Reverse the remaining N-k elements\n",
    "        arr[k:] = reversed(arr[k:])\n",
    "    \n",
    "    # Left Rotation\n",
    "    elif direction == 'left':\n",
    "        # Reverse the entire array\n",
    "        arr.reverse()\n",
    "        # Reverse the first N-k elements\n",
    "        arr[:N-k] = reversed(arr[:N-k])\n",
    "        # Reverse the last k elements\n",
    "        arr[N-k:] = reversed(arr[N-k:])\n",
    "    \n",
    "    return arr\n",
    "\n",
    "# Example usage:\n",
    "arr1 = [1, 2, 3, 4, 5, 6, 7]\n",
    "k1 = 2\n",
    "print(\"Right Rotation:\", rotate_array(arr1, k1, 'right'))  # Output: [6, 7, 1, 2, 3, 4, 5]\n",
    "\n",
    "arr2 = [3, 7, 8, 9, 10, 11]\n",
    "k2 = 3\n",
    "print(\"Left Rotation:\", rotate_array(arr2, k2, 'left'))  # Output: [9, 10, 11, 3, 7, 8]\n"
   ]
  },
  {
   "cell_type": "markdown",
   "id": "35026d92",
   "metadata": {},
   "source": [
    "### 21.Finding Equilibrium index in an array\n",
    "\n"
   ]
  },
  {
   "cell_type": "code",
   "execution_count": 24,
   "id": "e3499a58",
   "metadata": {},
   "outputs": [
    {
     "name": "stdout",
     "output_type": "stream",
     "text": [
      "3\n",
      "2\n"
     ]
    }
   ],
   "source": [
    "def equilibriumIndex(nums):\n",
    "    # Calculate total sum of the array\n",
    "    total_sum = sum(nums)\n",
    "    left_sum = 0\n",
    "    \n",
    "    # Iterate through the array to find the equilibrium index\n",
    "    for i in range(len(nums)):\n",
    "        # Subtract the current element from the total sum to get the right sum\n",
    "        total_sum -= nums[i]\n",
    "        \n",
    "        # Check if left sum equals right sum\n",
    "        if left_sum == total_sum:\n",
    "            return i\n",
    "        \n",
    "        # Update left sum for the next iteration\n",
    "        left_sum += nums[i]\n",
    "    \n",
    "    return -1  # No equilibrium index found\n",
    "\n",
    "# Example usage:\n",
    "nums1 = [2, 3, -1, 8, 4]\n",
    "nums2 = [1, -1, 4]\n",
    "\n",
    "print(equilibriumIndex(nums1))  # Output: 3\n",
    "print(equilibriumIndex(nums2))  # Output: 2\n",
    "\n"
   ]
  },
  {
   "cell_type": "markdown",
   "id": "26721262",
   "metadata": {},
   "source": [
    "### 22.Finding Circular rotation of an array by K positions\n"
   ]
  },
  {
   "cell_type": "code",
   "execution_count": 26,
   "id": "f15a179a",
   "metadata": {},
   "outputs": [
    {
     "name": "stdout",
     "output_type": "stream",
     "text": [
      "[4, 5, 1, 2, 3]\n",
      "[30, 40, 50, 10, 20]\n"
     ]
    }
   ],
   "source": [
    "def rotateArray(arr, K):\n",
    "    N = len(arr)\n",
    "    \n",
    "    # Normalize K to avoid unnecessary rotations\n",
    "    K = K % N\n",
    "    \n",
    "    # Right rotate the array\n",
    "    rotated_array = arr[-K:] + arr[:-K]\n",
    "    return rotated_array\n",
    "\n",
    "# Example usage:\n",
    "arr1 = [1, 2, 3, 4, 5]\n",
    "K1 = 2\n",
    "print(rotateArray(arr1, K1))  # Output: [4, 5, 1, 2, 3]\n",
    "\n",
    "arr2 = [10, 20, 30, 40, 50]\n",
    "K2 = 3\n",
    "print(rotateArray(arr2, K2))  # Output: [30, 40, 50, 10, 20]\n",
    "\n",
    "\n",
    "################################################33\n",
    "def rotateArrayLeft(arr, K):\n",
    "    N = len(arr)\n",
    "    K = K % N\n",
    "    rotated_array = arr[K:] + arr[:K]\n",
    "    return rotated_array\n",
    "\n"
   ]
  },
  {
   "cell_type": "markdown",
   "id": "bb6a1481",
   "metadata": {},
   "source": [
    "### 23.Sort an array according to the order defined by another array\n"
   ]
  },
  {
   "cell_type": "code",
   "execution_count": 28,
   "id": "4573fdb6",
   "metadata": {},
   "outputs": [
    {
     "name": "stdout",
     "output_type": "stream",
     "text": [
      "[4, 5, 3, 1, 2, 7]\n"
     ]
    }
   ],
   "source": [
    "def sortArrayByOrder(arr1, arr2):\n",
    "    # Create a dictionary to map elements of arr2 to their index positions\n",
    "    order_map = {value: index for index, value in enumerate(arr2)}\n",
    "\n",
    "    # Sort arr1 based on the order specified by arr2\n",
    "    # If an element in arr1 is not found in arr2, put it at the end (using a large number as a default order)\n",
    "    sorted_arr1 = sorted(arr1, key=lambda x: order_map.get(x, float('inf')))\n",
    "    \n",
    "    return sorted_arr1\n",
    "\n",
    "# Example usage:\n",
    "arr1 = [2, 1, 3, 4, 5, 7]\n",
    "arr2 = [4, 5, 3, 1, 2]\n",
    "print(sortArrayByOrder(arr1, arr2))  # Output: [4, 5, 3, 1, 2]\n"
   ]
  },
  {
   "cell_type": "markdown",
   "id": "5a872916",
   "metadata": {},
   "source": [
    "### 24.Search an Element in an Array : Program CPP Java\n",
    "\n"
   ]
  },
  {
   "cell_type": "code",
   "execution_count": 29,
   "id": "6e66f2f3",
   "metadata": {},
   "outputs": [
    {
     "name": "stdout",
     "output_type": "stream",
     "text": [
      "2\n",
      "5\n"
     ]
    }
   ],
   "source": [
    "def search_element(arr, k):\n",
    "    # Iterate through the array\n",
    "    for i in range(len(arr)):\n",
    "        if arr[i] == k:  # If element matches the target k\n",
    "            return i  # Return the index\n",
    "    return -1  # If element is not found, return -1\n",
    "\n",
    "# Example usage:\n",
    "arr1 = [1, 2, 3, 4, 5]\n",
    "k1 = 3\n",
    "print(search_element(arr1, k1))  # Output: 2\n",
    "\n",
    "arr2 = [6, 7, 9, 5, 3, 10]\n",
    "k2 = 10\n",
    "print(search_element(arr2, k2))  # Output: 5\n"
   ]
  },
  {
   "cell_type": "markdown",
   "id": "c6593c64",
   "metadata": {},
   "source": [
    "### 25.Check if array is subset of another array\n",
    "\n"
   ]
  },
  {
   "cell_type": "code",
   "execution_count": 30,
   "id": "2d043280",
   "metadata": {},
   "outputs": [
    {
     "name": "stdout",
     "output_type": "stream",
     "text": [
      "arr1[] is a subset of arr2[]\n",
      "arr1[] is not a subset of arr2[]\n"
     ]
    }
   ],
   "source": [
    "def is_subset(arr1, arr2):\n",
    "    # Convert both arrays to sets\n",
    "    set1 = set(arr1)\n",
    "    set2 = set(arr2)\n",
    "    \n",
    "    # Check if all elements of set1 are present in set2\n",
    "    if set1.issubset(set2):\n",
    "        return \"arr1[] is a subset of arr2[]\"\n",
    "    else:\n",
    "        return \"arr1[] is not a subset of arr2[]\"\n",
    "\n",
    "# Example usage:\n",
    "arr1 = [1, 3, 4, 5, 2]\n",
    "arr2 = [2, 4, 3, 1, 7, 5, 15]\n",
    "print(is_subset(arr1, arr2))  # Output: arr1[] is a subset of arr2[]\n",
    "\n",
    "arr1 = [1, 3, 4, 5, 2]\n",
    "arr2 = [4, 5, 2]\n",
    "print(is_subset(arr1, arr2))  # Output: arr1[] is not a subset of arr2[]\n"
   ]
  }
 ],
 "metadata": {
  "kernelspec": {
   "display_name": "Python 3 (ipykernel)",
   "language": "python",
   "name": "python3"
  },
  "language_info": {
   "codemirror_mode": {
    "name": "ipython",
    "version": 3
   },
   "file_extension": ".py",
   "mimetype": "text/x-python",
   "name": "python",
   "nbconvert_exporter": "python",
   "pygments_lexer": "ipython3",
   "version": "3.10.9"
  }
 },
 "nbformat": 4,
 "nbformat_minor": 5
}
